{
 "cells": [
  {
   "cell_type": "code",
   "execution_count": 1,
   "metadata": {},
   "outputs": [],
   "source": [
    "import pandas as pd\n",
    "import matplotlib.pyplot as plt\n",
    "import seaborn as sns\n",
    "from pingouin import wilcoxon\n",
    "\n",
    "sns.set_theme(style=\"whitegrid\", context=\"paper\", font_scale=1.5)"
   ]
  },
  {
   "cell_type": "code",
   "execution_count": 2,
   "metadata": {},
   "outputs": [],
   "source": [
    "def create_id(results):\n",
    "  solutions = results['Solution'].unique()\n",
    "  solution_to_id = {solution: f\"S{i}\" for i, solution in enumerate(solutions)}\n",
    "  results['Solution'] = results['Solution'].map(solution_to_id)\n",
    "\n",
    "def compute_win_stat(results, baseline, metric):\n",
    "  sol_stats = {}\n",
    "\n",
    "  for s in results['Solution'].unique():\n",
    "      if s == 'Baseline':\n",
    "        continue\n",
    "      count = 0\n",
    "      loss = 0\n",
    "      tie = 0\n",
    "      for f in results['File'].unique():\n",
    "        stat = wilcoxon(\n",
    "          results[(results['File'] == f) & (results['Solution'] == s)][metric],\n",
    "          baseline[baseline['File'] == f][metric],\n",
    "          alternative='greater'\n",
    "        )\n",
    "        if stat['p-val'].values[0] < 0.05:\n",
    "          count += 1\n",
    "        elif stat['p-val'].values[0] > 0.99:\n",
    "          loss += 1\n",
    "        else:\n",
    "          tie += 1\n",
    "      sol_stats[s] = { 'win': count, 'tie': tie, 'loss': loss }\n",
    "  return sol_stats"
   ]
  },
  {
   "cell_type": "markdown",
   "metadata": {},
   "source": [
    "# RQ1: Training"
   ]
  },
  {
   "cell_type": "code",
   "execution_count": 3,
   "metadata": {},
   "outputs": [],
   "source": [
    "grid_search = pd.read_csv('training/grid_sreach_results.csv')\n",
    "grid_search.set_index('Parameter Set', inplace=True)\n",
    "grid_search['Solution'] = 'Dominated'"
   ]
  },
  {
   "cell_type": "code",
   "execution_count": 4,
   "metadata": {},
   "outputs": [],
   "source": [
    "pareto = pd.read_csv('training/pareto_front_results.csv')\n",
    "pareto.set_index('Parameter Set', inplace=True)\n",
    "pareto['Solution'] = 'Pareto'"
   ]
  },
  {
   "cell_type": "code",
   "execution_count": 5,
   "metadata": {},
   "outputs": [],
   "source": [
    "grid_search.drop(pareto.index, inplace=True)"
   ]
  },
  {
   "cell_type": "code",
   "execution_count": 6,
   "metadata": {},
   "outputs": [
    {
     "data": {
      "text/html": [
       "<div>\n",
       "<style scoped>\n",
       "    .dataframe tbody tr th:only-of-type {\n",
       "        vertical-align: middle;\n",
       "    }\n",
       "\n",
       "    .dataframe tbody tr th {\n",
       "        vertical-align: top;\n",
       "    }\n",
       "\n",
       "    .dataframe thead th {\n",
       "        text-align: right;\n",
       "    }\n",
       "</style>\n",
       "<table border=\"1\" class=\"dataframe\">\n",
       "  <thead>\n",
       "    <tr style=\"text-align: right;\">\n",
       "      <th></th>\n",
       "      <th>Parameters</th>\n",
       "      <th>Cosine Similarity</th>\n",
       "      <th>BERT Score (F1)</th>\n",
       "      <th>Solution</th>\n",
       "    </tr>\n",
       "    <tr>\n",
       "      <th>Parameter Set</th>\n",
       "      <th></th>\n",
       "      <th></th>\n",
       "      <th></th>\n",
       "      <th></th>\n",
       "    </tr>\n",
       "  </thead>\n",
       "  <tbody>\n",
       "    <tr>\n",
       "      <th>1</th>\n",
       "      <td>{'temperature': 0.6, 'top_k': None, 'top_p': 0...</td>\n",
       "      <td>0.176867</td>\n",
       "      <td>0.743901</td>\n",
       "      <td>Dominated</td>\n",
       "    </tr>\n",
       "    <tr>\n",
       "      <th>2</th>\n",
       "      <td>{'temperature': 0.6, 'top_k': None, 'top_p': 0...</td>\n",
       "      <td>0.559563</td>\n",
       "      <td>0.776538</td>\n",
       "      <td>Dominated</td>\n",
       "    </tr>\n",
       "    <tr>\n",
       "      <th>3</th>\n",
       "      <td>{'temperature': 0.6, 'top_k': None, 'top_p': 0...</td>\n",
       "      <td>0.552578</td>\n",
       "      <td>0.796361</td>\n",
       "      <td>Dominated</td>\n",
       "    </tr>\n",
       "    <tr>\n",
       "      <th>4</th>\n",
       "      <td>{'temperature': 0.6, 'top_k': None, 'top_p': 0...</td>\n",
       "      <td>0.548549</td>\n",
       "      <td>0.755779</td>\n",
       "      <td>Dominated</td>\n",
       "    </tr>\n",
       "    <tr>\n",
       "      <th>5</th>\n",
       "      <td>{'temperature': 0.6, 'top_k': None, 'top_p': 1...</td>\n",
       "      <td>0.355428</td>\n",
       "      <td>0.739442</td>\n",
       "      <td>Dominated</td>\n",
       "    </tr>\n",
       "    <tr>\n",
       "      <th>...</th>\n",
       "      <td>...</td>\n",
       "      <td>...</td>\n",
       "      <td>...</td>\n",
       "      <td>...</td>\n",
       "    </tr>\n",
       "    <tr>\n",
       "      <th>43</th>\n",
       "      <td>{'temperature': 0.7999999999999999, 'top_k': 5...</td>\n",
       "      <td>0.911361</td>\n",
       "      <td>0.825196</td>\n",
       "      <td>Pareto</td>\n",
       "    </tr>\n",
       "    <tr>\n",
       "      <th>69</th>\n",
       "      <td>{'temperature': 0.9999999999999999, 'top_k': N...</td>\n",
       "      <td>0.872345</td>\n",
       "      <td>0.880197</td>\n",
       "      <td>Pareto</td>\n",
       "    </tr>\n",
       "    <tr>\n",
       "      <th>81</th>\n",
       "      <td>{'temperature': 1.0999999999999999, 'top_k': N...</td>\n",
       "      <td>0.873458</td>\n",
       "      <td>0.832510</td>\n",
       "      <td>Pareto</td>\n",
       "    </tr>\n",
       "    <tr>\n",
       "      <th>90</th>\n",
       "      <td>{'temperature': 1.0999999999999999, 'top_k': 5...</td>\n",
       "      <td>0.916272</td>\n",
       "      <td>0.821503</td>\n",
       "      <td>Pareto</td>\n",
       "    </tr>\n",
       "    <tr>\n",
       "      <th>91</th>\n",
       "      <td>{'temperature': 1.0999999999999999, 'top_k': 5...</td>\n",
       "      <td>0.939285</td>\n",
       "      <td>0.770446</td>\n",
       "      <td>Pareto</td>\n",
       "    </tr>\n",
       "  </tbody>\n",
       "</table>\n",
       "<p>96 rows × 4 columns</p>\n",
       "</div>"
      ],
      "text/plain": [
       "                                                      Parameters  \\\n",
       "Parameter Set                                                      \n",
       "1              {'temperature': 0.6, 'top_k': None, 'top_p': 0...   \n",
       "2              {'temperature': 0.6, 'top_k': None, 'top_p': 0...   \n",
       "3              {'temperature': 0.6, 'top_k': None, 'top_p': 0...   \n",
       "4              {'temperature': 0.6, 'top_k': None, 'top_p': 0...   \n",
       "5              {'temperature': 0.6, 'top_k': None, 'top_p': 1...   \n",
       "...                                                          ...   \n",
       "43             {'temperature': 0.7999999999999999, 'top_k': 5...   \n",
       "69             {'temperature': 0.9999999999999999, 'top_k': N...   \n",
       "81             {'temperature': 1.0999999999999999, 'top_k': N...   \n",
       "90             {'temperature': 1.0999999999999999, 'top_k': 5...   \n",
       "91             {'temperature': 1.0999999999999999, 'top_k': 5...   \n",
       "\n",
       "               Cosine Similarity  BERT Score (F1)   Solution  \n",
       "Parameter Set                                                 \n",
       "1                       0.176867         0.743901  Dominated  \n",
       "2                       0.559563         0.776538  Dominated  \n",
       "3                       0.552578         0.796361  Dominated  \n",
       "4                       0.548549         0.755779  Dominated  \n",
       "5                       0.355428         0.739442  Dominated  \n",
       "...                          ...              ...        ...  \n",
       "43                      0.911361         0.825196     Pareto  \n",
       "69                      0.872345         0.880197     Pareto  \n",
       "81                      0.873458         0.832510     Pareto  \n",
       "90                      0.916272         0.821503     Pareto  \n",
       "91                      0.939285         0.770446     Pareto  \n",
       "\n",
       "[96 rows x 4 columns]"
      ]
     },
     "execution_count": 6,
     "metadata": {},
     "output_type": "execute_result"
    }
   ],
   "source": [
    "solutions = pd.concat([grid_search, pareto])\n",
    "solutions"
   ]
  },
  {
   "cell_type": "code",
   "execution_count": 11,
   "metadata": {},
   "outputs": [
    {
     "data": {
      "image/png": "[encoded data removed]",
      "text/plain": [
       "<Figure size 640x480 with 1 Axes>"
      ]
     },
     "metadata": {},
     "output_type": "display_data"
    }
   ],
   "source": [
    "fig, ax = plt.subplots()\n",
    "sns.scatterplot(data=solutions, x='Cosine Similarity', y='BERT Score (F1)', hue='Solution', style='Solution', s=70, ax=ax)\n",
    "ax.yaxis.set_label_text('BERT Score')\n",
    "ax.xaxis.set_label_text('Cosine Similarity')\n",
    "plt.savefig('pareto_front.pdf')\n",
    "plt.show()"
   ]
  },
  {
   "cell_type": "code",
   "execution_count": 168,
   "metadata": {},
   "outputs": [],
   "source": [
    "baseline = pd.read_csv('training/baseline_updated.csv')\n",
    "plot_data = pd.concat([pareto, baseline])"
   ]
  },
  {
   "cell_type": "code",
   "execution_count": 170,
   "metadata": {},
   "outputs": [],
   "source": [
    "plot_data['Solution'] = plot_data['Solution'].fillna('Baseline')"
   ]
  },
  {
   "cell_type": "code",
   "execution_count": 172,
   "metadata": {},
   "outputs": [],
   "source": [
    "plot_data_melt = pd.melt(plot_data, id_vars=['Solution'], value_vars=['Cosine Similarity', 'BERT Score (F1)'])"
   ]
  },
  {
   "cell_type": "code",
   "execution_count": 173,
   "metadata": {},
   "outputs": [
    {
     "data": {
      "text/html": [
       "<div>\n",
       "<style scoped>\n",
       "    .dataframe tbody tr th:only-of-type {\n",
       "        vertical-align: middle;\n",
       "    }\n",
       "\n",
       "    .dataframe tbody tr th {\n",
       "        vertical-align: top;\n",
       "    }\n",
       "\n",
       "    .dataframe thead th {\n",
       "        text-align: right;\n",
       "    }\n",
       "</style>\n",
       "<table border=\"1\" class=\"dataframe\">\n",
       "  <thead>\n",
       "    <tr style=\"text-align: right;\">\n",
       "      <th></th>\n",
       "      <th>Solution</th>\n",
       "      <th>variable</th>\n",
       "      <th>value</th>\n",
       "    </tr>\n",
       "  </thead>\n",
       "  <tbody>\n",
       "    <tr>\n",
       "      <th>0</th>\n",
       "      <td>Pareto</td>\n",
       "      <td>Cosine Similarity</td>\n",
       "      <td>0.921735</td>\n",
       "    </tr>\n",
       "    <tr>\n",
       "      <th>1</th>\n",
       "      <td>Pareto</td>\n",
       "      <td>Cosine Similarity</td>\n",
       "      <td>0.911361</td>\n",
       "    </tr>\n",
       "    <tr>\n",
       "      <th>2</th>\n",
       "      <td>Pareto</td>\n",
       "      <td>Cosine Similarity</td>\n",
       "      <td>0.872345</td>\n",
       "    </tr>\n",
       "    <tr>\n",
       "      <th>3</th>\n",
       "      <td>Pareto</td>\n",
       "      <td>Cosine Similarity</td>\n",
       "      <td>0.873458</td>\n",
       "    </tr>\n",
       "    <tr>\n",
       "      <th>4</th>\n",
       "      <td>Pareto</td>\n",
       "      <td>Cosine Similarity</td>\n",
       "      <td>0.916272</td>\n",
       "    </tr>\n",
       "    <tr>\n",
       "      <th>5</th>\n",
       "      <td>Pareto</td>\n",
       "      <td>Cosine Similarity</td>\n",
       "      <td>0.939285</td>\n",
       "    </tr>\n",
       "    <tr>\n",
       "      <th>6</th>\n",
       "      <td>Baseline</td>\n",
       "      <td>Cosine Similarity</td>\n",
       "      <td>0.014979</td>\n",
       "    </tr>\n",
       "    <tr>\n",
       "      <th>7</th>\n",
       "      <td>Baseline</td>\n",
       "      <td>Cosine Similarity</td>\n",
       "      <td>0.303279</td>\n",
       "    </tr>\n",
       "    <tr>\n",
       "      <th>8</th>\n",
       "      <td>Baseline</td>\n",
       "      <td>Cosine Similarity</td>\n",
       "      <td>0.179493</td>\n",
       "    </tr>\n",
       "    <tr>\n",
       "      <th>9</th>\n",
       "      <td>Baseline</td>\n",
       "      <td>Cosine Similarity</td>\n",
       "      <td>0.040905</td>\n",
       "    </tr>\n",
       "    <tr>\n",
       "      <th>10</th>\n",
       "      <td>Baseline</td>\n",
       "      <td>Cosine Similarity</td>\n",
       "      <td>0.014743</td>\n",
       "    </tr>\n",
       "    <tr>\n",
       "      <th>11</th>\n",
       "      <td>Baseline</td>\n",
       "      <td>Cosine Similarity</td>\n",
       "      <td>0.076090</td>\n",
       "    </tr>\n",
       "    <tr>\n",
       "      <th>12</th>\n",
       "      <td>Pareto</td>\n",
       "      <td>BERT Score (F1)</td>\n",
       "      <td>0.784626</td>\n",
       "    </tr>\n",
       "    <tr>\n",
       "      <th>13</th>\n",
       "      <td>Pareto</td>\n",
       "      <td>BERT Score (F1)</td>\n",
       "      <td>0.825196</td>\n",
       "    </tr>\n",
       "    <tr>\n",
       "      <th>14</th>\n",
       "      <td>Pareto</td>\n",
       "      <td>BERT Score (F1)</td>\n",
       "      <td>0.880197</td>\n",
       "    </tr>\n",
       "    <tr>\n",
       "      <th>15</th>\n",
       "      <td>Pareto</td>\n",
       "      <td>BERT Score (F1)</td>\n",
       "      <td>0.832510</td>\n",
       "    </tr>\n",
       "    <tr>\n",
       "      <th>16</th>\n",
       "      <td>Pareto</td>\n",
       "      <td>BERT Score (F1)</td>\n",
       "      <td>0.821503</td>\n",
       "    </tr>\n",
       "    <tr>\n",
       "      <th>17</th>\n",
       "      <td>Pareto</td>\n",
       "      <td>BERT Score (F1)</td>\n",
       "      <td>0.770446</td>\n",
       "    </tr>\n",
       "    <tr>\n",
       "      <th>18</th>\n",
       "      <td>Baseline</td>\n",
       "      <td>BERT Score (F1)</td>\n",
       "      <td>0.055105</td>\n",
       "    </tr>\n",
       "    <tr>\n",
       "      <th>19</th>\n",
       "      <td>Baseline</td>\n",
       "      <td>BERT Score (F1)</td>\n",
       "      <td>0.169694</td>\n",
       "    </tr>\n",
       "    <tr>\n",
       "      <th>20</th>\n",
       "      <td>Baseline</td>\n",
       "      <td>BERT Score (F1)</td>\n",
       "      <td>0.144908</td>\n",
       "    </tr>\n",
       "    <tr>\n",
       "      <th>21</th>\n",
       "      <td>Baseline</td>\n",
       "      <td>BERT Score (F1)</td>\n",
       "      <td>0.071262</td>\n",
       "    </tr>\n",
       "    <tr>\n",
       "      <th>22</th>\n",
       "      <td>Baseline</td>\n",
       "      <td>BERT Score (F1)</td>\n",
       "      <td>0.136872</td>\n",
       "    </tr>\n",
       "    <tr>\n",
       "      <th>23</th>\n",
       "      <td>Baseline</td>\n",
       "      <td>BERT Score (F1)</td>\n",
       "      <td>0.114257</td>\n",
       "    </tr>\n",
       "  </tbody>\n",
       "</table>\n",
       "</div>"
      ],
      "text/plain": [
       "    Solution           variable     value\n",
       "0     Pareto  Cosine Similarity  0.921735\n",
       "1     Pareto  Cosine Similarity  0.911361\n",
       "2     Pareto  Cosine Similarity  0.872345\n",
       "3     Pareto  Cosine Similarity  0.873458\n",
       "4     Pareto  Cosine Similarity  0.916272\n",
       "5     Pareto  Cosine Similarity  0.939285\n",
       "6   Baseline  Cosine Similarity  0.014979\n",
       "7   Baseline  Cosine Similarity  0.303279\n",
       "8   Baseline  Cosine Similarity  0.179493\n",
       "9   Baseline  Cosine Similarity  0.040905\n",
       "10  Baseline  Cosine Similarity  0.014743\n",
       "11  Baseline  Cosine Similarity  0.076090\n",
       "12    Pareto    BERT Score (F1)  0.784626\n",
       "13    Pareto    BERT Score (F1)  0.825196\n",
       "14    Pareto    BERT Score (F1)  0.880197\n",
       "15    Pareto    BERT Score (F1)  0.832510\n",
       "16    Pareto    BERT Score (F1)  0.821503\n",
       "17    Pareto    BERT Score (F1)  0.770446\n",
       "18  Baseline    BERT Score (F1)  0.055105\n",
       "19  Baseline    BERT Score (F1)  0.169694\n",
       "20  Baseline    BERT Score (F1)  0.144908\n",
       "21  Baseline    BERT Score (F1)  0.071262\n",
       "22  Baseline    BERT Score (F1)  0.136872\n",
       "23  Baseline    BERT Score (F1)  0.114257"
      ]
     },
     "execution_count": 173,
     "metadata": {},
     "output_type": "execute_result"
    }
   ],
   "source": []
  },
  {
   "cell_type": "code",
   "execution_count": 181,
   "metadata": {},
   "outputs": [
    {
     "data": {
      "image/png": "[encoded data removed]",
      "text/plain": [
       "<Figure size 640x480 with 1 Axes>"
      ]
     },
     "metadata": {},
     "output_type": "display_data"
    }
   ],
   "source": [
    "ax = sns.boxplot(\n",
    "  data=plot_data_melt,\n",
    "  x='variable',\n",
    "  y='value',\n",
    "  hue='Solution',\n",
    ")\n",
    "ax.yaxis.set_label_text('')\n",
    "ax.xaxis.set_label_text('')\n",
    "plt.savefig('boxplot_train.pdf')\n",
    "plt.show()"
   ]
  },
  {
   "cell_type": "markdown",
   "metadata": {},
   "source": [
    "# RQ2: Generalizability"
   ]
  },
  {
   "cell_type": "code",
   "execution_count": 55,
   "metadata": {},
   "outputs": [],
   "source": [
    "baseline = pd.read_csv('zero-shot/baseline.csv')"
   ]
  },
  {
   "cell_type": "code",
   "execution_count": 56,
   "metadata": {},
   "outputs": [
    {
     "data": {
      "text/html": [
       "<div>\n",
       "<style scoped>\n",
       "    .dataframe tbody tr th:only-of-type {\n",
       "        vertical-align: middle;\n",
       "    }\n",
       "\n",
       "    .dataframe tbody tr th {\n",
       "        vertical-align: top;\n",
       "    }\n",
       "\n",
       "    .dataframe thead th {\n",
       "        text-align: right;\n",
       "    }\n",
       "</style>\n",
       "<table border=\"1\" class=\"dataframe\">\n",
       "  <thead>\n",
       "    <tr style=\"text-align: right;\">\n",
       "      <th></th>\n",
       "      <th>File</th>\n",
       "      <th>Solution</th>\n",
       "      <th>Cosine</th>\n",
       "      <th>BERT</th>\n",
       "    </tr>\n",
       "  </thead>\n",
       "  <tbody>\n",
       "    <tr>\n",
       "      <th>0</th>\n",
       "      <td>10_HBMS.docx</td>\n",
       "      <td>{'temperature': 0.6, 'top_k': 50, 'top_p': 1.0...</td>\n",
       "      <td>0.853066</td>\n",
       "      <td>0.893256</td>\n",
       "    </tr>\n",
       "    <tr>\n",
       "      <th>1</th>\n",
       "      <td>10_HBMS.docx</td>\n",
       "      <td>{'temperature': 0.6, 'top_k': 50, 'top_p': 1.0...</td>\n",
       "      <td>0.853066</td>\n",
       "      <td>0.884642</td>\n",
       "    </tr>\n",
       "    <tr>\n",
       "      <th>2</th>\n",
       "      <td>10_HBMS.docx</td>\n",
       "      <td>{'temperature': 0.6, 'top_k': 50, 'top_p': 1.0...</td>\n",
       "      <td>0.853066</td>\n",
       "      <td>0.888773</td>\n",
       "    </tr>\n",
       "    <tr>\n",
       "      <th>3</th>\n",
       "      <td>10_HBMS.docx</td>\n",
       "      <td>{'temperature': 0.6, 'top_k': 50, 'top_p': 1.0...</td>\n",
       "      <td>0.853066</td>\n",
       "      <td>0.915135</td>\n",
       "    </tr>\n",
       "    <tr>\n",
       "      <th>4</th>\n",
       "      <td>10_HBMS.docx</td>\n",
       "      <td>{'temperature': 0.6, 'top_k': 50, 'top_p': 1.0...</td>\n",
       "      <td>0.853066</td>\n",
       "      <td>0.911514</td>\n",
       "    </tr>\n",
       "    <tr>\n",
       "      <th>...</th>\n",
       "      <td>...</td>\n",
       "      <td>...</td>\n",
       "      <td>...</td>\n",
       "      <td>...</td>\n",
       "    </tr>\n",
       "    <tr>\n",
       "      <th>595</th>\n",
       "      <td>08_Block.docx</td>\n",
       "      <td>{'temperature': 1.1, 'top_k': 50, 'top_p': 0.9...</td>\n",
       "      <td>0.717769</td>\n",
       "      <td>0.898185</td>\n",
       "    </tr>\n",
       "    <tr>\n",
       "      <th>596</th>\n",
       "      <td>08_Block.docx</td>\n",
       "      <td>{'temperature': 1.1, 'top_k': 50, 'top_p': 0.9...</td>\n",
       "      <td>0.717769</td>\n",
       "      <td>0.890098</td>\n",
       "    </tr>\n",
       "    <tr>\n",
       "      <th>597</th>\n",
       "      <td>08_Block.docx</td>\n",
       "      <td>{'temperature': 1.1, 'top_k': 50, 'top_p': 0.9...</td>\n",
       "      <td>0.717769</td>\n",
       "      <td>0.894356</td>\n",
       "    </tr>\n",
       "    <tr>\n",
       "      <th>598</th>\n",
       "      <td>08_Block.docx</td>\n",
       "      <td>{'temperature': 1.1, 'top_k': 50, 'top_p': 0.9...</td>\n",
       "      <td>0.717769</td>\n",
       "      <td>0.873535</td>\n",
       "    </tr>\n",
       "    <tr>\n",
       "      <th>599</th>\n",
       "      <td>08_Block.docx</td>\n",
       "      <td>{'temperature': 1.1, 'top_k': 50, 'top_p': 0.9...</td>\n",
       "      <td>0.717769</td>\n",
       "      <td>0.904549</td>\n",
       "    </tr>\n",
       "  </tbody>\n",
       "</table>\n",
       "<p>600 rows × 4 columns</p>\n",
       "</div>"
      ],
      "text/plain": [
       "              File                                           Solution  \\\n",
       "0     10_HBMS.docx  {'temperature': 0.6, 'top_k': 50, 'top_p': 1.0...   \n",
       "1     10_HBMS.docx  {'temperature': 0.6, 'top_k': 50, 'top_p': 1.0...   \n",
       "2     10_HBMS.docx  {'temperature': 0.6, 'top_k': 50, 'top_p': 1.0...   \n",
       "3     10_HBMS.docx  {'temperature': 0.6, 'top_k': 50, 'top_p': 1.0...   \n",
       "4     10_HBMS.docx  {'temperature': 0.6, 'top_k': 50, 'top_p': 1.0...   \n",
       "..             ...                                                ...   \n",
       "595  08_Block.docx  {'temperature': 1.1, 'top_k': 50, 'top_p': 0.9...   \n",
       "596  08_Block.docx  {'temperature': 1.1, 'top_k': 50, 'top_p': 0.9...   \n",
       "597  08_Block.docx  {'temperature': 1.1, 'top_k': 50, 'top_p': 0.9...   \n",
       "598  08_Block.docx  {'temperature': 1.1, 'top_k': 50, 'top_p': 0.9...   \n",
       "599  08_Block.docx  {'temperature': 1.1, 'top_k': 50, 'top_p': 0.9...   \n",
       "\n",
       "       Cosine      BERT  \n",
       "0    0.853066  0.893256  \n",
       "1    0.853066  0.884642  \n",
       "2    0.853066  0.888773  \n",
       "3    0.853066  0.915135  \n",
       "4    0.853066  0.911514  \n",
       "..        ...       ...  \n",
       "595  0.717769  0.898185  \n",
       "596  0.717769  0.890098  \n",
       "597  0.717769  0.894356  \n",
       "598  0.717769  0.873535  \n",
       "599  0.717769  0.904549  \n",
       "\n",
       "[600 rows x 4 columns]"
      ]
     },
     "execution_count": 56,
     "metadata": {},
     "output_type": "execute_result"
    }
   ],
   "source": [
    "results = pd.read_csv('zero-shot/results.csv')\n",
    "results"
   ]
  },
  {
   "cell_type": "code",
   "execution_count": 57,
   "metadata": {},
   "outputs": [],
   "source": [
    "create_id(results)"
   ]
  },
  {
   "cell_type": "code",
   "execution_count": 58,
   "metadata": {},
   "outputs": [],
   "source": [
    "results_melt = pd.melt(results, id_vars=['File', 'Solution'], var_name='Metric', value_name='Value')"
   ]
  },
  {
   "cell_type": "code",
   "execution_count": 62,
   "metadata": {},
   "outputs": [],
   "source": [
    "cos_baseline = baseline['Cosine'].mean()\n",
    "bert_baseline = baseline['BERT'].mean()"
   ]
  },
  {
   "cell_type": "code",
   "execution_count": 116,
   "metadata": {},
   "outputs": [
    {
     "name": "stderr",
     "output_type": "stream",
     "text": [
      "/Users/giord/miniconda3/envs/ds/lib/python3.10/site-packages/seaborn/axisgrid.py:718: UserWarning: Using the boxplot function without specifying `order` is likely to produce an incorrect plot.\n",
      "  warnings.warn(warning)\n"
     ]
    },
    {
     "data": {
      "image/png": "[encoded data removed]",
      "text/plain": [
       "<Figure size 900x300 with 2 Axes>"
      ]
     },
     "metadata": {},
     "output_type": "display_data"
    }
   ],
   "source": [
    "g = sns.FacetGrid(col='Metric', data=results_melt, aspect=1.5)\n",
    "g.map(sns.boxplot, 'Solution', 'Value')\n",
    "g.set_titles('{col_name}')\n",
    "g.axes[0, 0].axhline(cos_baseline, color='red', linestyle='--', label='Baseline')\n",
    "g.axes[0, 1].axhline(bert_baseline, color='red', linestyle='--')\n",
    "g.figure.legend(loc='lower center')\n",
    "g.set_axis_labels('', '')\n",
    "plt.savefig('zero-shot/zero-shot-boxplot.pdf')\n",
    "plt.show()"
   ]
  },
  {
   "cell_type": "markdown",
   "metadata": {},
   "source": [
    "## Analysis of the best pareto-solutions"
   ]
  },
  {
   "cell_type": "code",
   "execution_count": 66,
   "metadata": {},
   "outputs": [],
   "source": [
    "sol_stats_cosine = compute_win_stat(results, baseline, 'Cosine')"
   ]
  },
  {
   "cell_type": "code",
   "execution_count": 67,
   "metadata": {},
   "outputs": [],
   "source": [
    "stats = pd.DataFrame(sol_stats_cosine).T\n",
    "stats['Cosine'] = stats.apply(lambda x: f\"{x['win']} / {x['tie']} / {x['loss']}\", axis=1)\n",
    "stats = stats.drop(columns=['win', 'tie', 'loss'])"
   ]
  },
  {
   "cell_type": "code",
   "execution_count": 68,
   "metadata": {},
   "outputs": [
    {
     "data": {
      "text/html": [
       "<div>\n",
       "<style scoped>\n",
       "    .dataframe tbody tr th:only-of-type {\n",
       "        vertical-align: middle;\n",
       "    }\n",
       "\n",
       "    .dataframe tbody tr th {\n",
       "        vertical-align: top;\n",
       "    }\n",
       "\n",
       "    .dataframe thead th {\n",
       "        text-align: right;\n",
       "    }\n",
       "</style>\n",
       "<table border=\"1\" class=\"dataframe\">\n",
       "  <thead>\n",
       "    <tr style=\"text-align: right;\">\n",
       "      <th></th>\n",
       "      <th>Cosine</th>\n",
       "    </tr>\n",
       "  </thead>\n",
       "  <tbody>\n",
       "    <tr>\n",
       "      <th>S0</th>\n",
       "      <td>4 / 0 / 6</td>\n",
       "    </tr>\n",
       "    <tr>\n",
       "      <th>S1</th>\n",
       "      <td>1 / 0 / 9</td>\n",
       "    </tr>\n",
       "    <tr>\n",
       "      <th>S2</th>\n",
       "      <td>1 / 1 / 8</td>\n",
       "    </tr>\n",
       "    <tr>\n",
       "      <th>S3</th>\n",
       "      <td>3 / 0 / 7</td>\n",
       "    </tr>\n",
       "    <tr>\n",
       "      <th>S4</th>\n",
       "      <td>1 / 1 / 8</td>\n",
       "    </tr>\n",
       "    <tr>\n",
       "      <th>S5</th>\n",
       "      <td>4 / 0 / 6</td>\n",
       "    </tr>\n",
       "  </tbody>\n",
       "</table>\n",
       "</div>"
      ],
      "text/plain": [
       "       Cosine\n",
       "S0  4 / 0 / 6\n",
       "S1  1 / 0 / 9\n",
       "S2  1 / 1 / 8\n",
       "S3  3 / 0 / 7\n",
       "S4  1 / 1 / 8\n",
       "S5  4 / 0 / 6"
      ]
     },
     "execution_count": 68,
     "metadata": {},
     "output_type": "execute_result"
    }
   ],
   "source": [
    "stats"
   ]
  },
  {
   "cell_type": "code",
   "execution_count": 69,
   "metadata": {},
   "outputs": [],
   "source": [
    "sol_stats_bert = compute_win_stat(results, baseline, 'BERT')"
   ]
  },
  {
   "cell_type": "code",
   "execution_count": 70,
   "metadata": {},
   "outputs": [],
   "source": [
    "stats_bert = pd.DataFrame(sol_stats_bert).T\n",
    "stats_bert['BERT'] = stats_bert.apply(lambda x: f\"{x['win']} / {x['tie']} / {x['loss']}\", axis=1)\n",
    "stats_bert = stats_bert.drop(columns=['win', 'tie', 'loss'])\n",
    "stats = pd.concat([stats, stats_bert], axis=1)\n",
    "stats.to_latex('zero-shot/stats.tex')"
   ]
  },
  {
   "cell_type": "markdown",
   "metadata": {},
   "source": [
    "## Analysis of domain models"
   ]
  },
  {
   "cell_type": "code",
   "execution_count": 36,
   "metadata": {},
   "outputs": [],
   "source": [
    "def get_best_domain_model(results, metric):\n",
    "  best = {}\n",
    "  for f in results['File'].unique():\n",
    "    count = 0\n",
    "    for s in results['Solution'].unique():\n",
    "      if s == 'Baseline':\n",
    "        continue\n",
    "      else:\n",
    "        stat = wilcoxon(\n",
    "          results[(results['File'] == f) & (results['Solution'] == s)][metric],\n",
    "          results[(results['File'] == f) & (results['Solution'] == 'Baseline')][metric],\n",
    "          alternative='greater'\n",
    "        )\n",
    "        if stat['p-val'].values[0] < 0.05:\n",
    "          count += 1\n",
    "    best[f] = count/len(results['Solution'].unique())\n",
    "  return best"
   ]
  },
  {
   "cell_type": "code",
   "execution_count": 37,
   "metadata": {},
   "outputs": [],
   "source": [
    "sol_stats_cosine = get_best_domain_model(results, 'Cosine')"
   ]
  },
  {
   "cell_type": "code",
   "execution_count": 38,
   "metadata": {},
   "outputs": [
    {
     "data": {
      "text/plain": [
       "{'10_HBMS.docx': 0.42857142857142855,\n",
       " '07_OTS.docx': 0.0,\n",
       " '06_SHAS.docx': 0.14285714285714285,\n",
       " '01_BTMS.docx': 0.2857142857142857,\n",
       " '03_LabTracker.docx': 0.14285714285714285,\n",
       " '04_CelO.docx': 0.7142857142857143,\n",
       " '09_TileO.docx': 0.0,\n",
       " '02_H2S.docx': 0.2857142857142857,\n",
       " '05_TSS.docx': 0.0,\n",
       " '08_Block.docx': 0.0}"
      ]
     },
     "execution_count": 38,
     "metadata": {},
     "output_type": "execute_result"
    }
   ],
   "source": [
    "sol_stats_cosine"
   ]
  },
  {
   "cell_type": "code",
   "execution_count": 40,
   "metadata": {},
   "outputs": [
    {
     "data": {
      "text/html": [
       "<div>\n",
       "<style scoped>\n",
       "    .dataframe tbody tr th:only-of-type {\n",
       "        vertical-align: middle;\n",
       "    }\n",
       "\n",
       "    .dataframe tbody tr th {\n",
       "        vertical-align: top;\n",
       "    }\n",
       "\n",
       "    .dataframe thead th {\n",
       "        text-align: right;\n",
       "    }\n",
       "</style>\n",
       "<table border=\"1\" class=\"dataframe\">\n",
       "  <thead>\n",
       "    <tr style=\"text-align: right;\">\n",
       "      <th></th>\n",
       "      <th>Cosine</th>\n",
       "      <th>BERT</th>\n",
       "    </tr>\n",
       "  </thead>\n",
       "  <tbody>\n",
       "    <tr>\n",
       "      <th>count</th>\n",
       "      <td>100.000000</td>\n",
       "      <td>100.000000</td>\n",
       "    </tr>\n",
       "    <tr>\n",
       "      <th>mean</th>\n",
       "      <td>0.719834</td>\n",
       "      <td>0.879534</td>\n",
       "    </tr>\n",
       "    <tr>\n",
       "      <th>std</th>\n",
       "      <td>0.072146</td>\n",
       "      <td>0.045098</td>\n",
       "    </tr>\n",
       "    <tr>\n",
       "      <th>min</th>\n",
       "      <td>0.587575</td>\n",
       "      <td>0.787876</td>\n",
       "    </tr>\n",
       "    <tr>\n",
       "      <th>25%</th>\n",
       "      <td>0.648020</td>\n",
       "      <td>0.833534</td>\n",
       "    </tr>\n",
       "    <tr>\n",
       "      <th>50%</th>\n",
       "      <td>0.746207</td>\n",
       "      <td>0.896776</td>\n",
       "    </tr>\n",
       "    <tr>\n",
       "      <th>75%</th>\n",
       "      <td>0.776291</td>\n",
       "      <td>0.911111</td>\n",
       "    </tr>\n",
       "    <tr>\n",
       "      <th>max</th>\n",
       "      <td>0.819809</td>\n",
       "      <td>0.946621</td>\n",
       "    </tr>\n",
       "  </tbody>\n",
       "</table>\n",
       "</div>"
      ],
      "text/plain": [
       "           Cosine        BERT\n",
       "count  100.000000  100.000000\n",
       "mean     0.719834    0.879534\n",
       "std      0.072146    0.045098\n",
       "min      0.587575    0.787876\n",
       "25%      0.648020    0.833534\n",
       "50%      0.746207    0.896776\n",
       "75%      0.776291    0.911111\n",
       "max      0.819809    0.946621"
      ]
     },
     "execution_count": 40,
     "metadata": {},
     "output_type": "execute_result"
    }
   ],
   "source": [
    "baseline.describe()"
   ]
  },
  {
   "cell_type": "code",
   "execution_count": 39,
   "metadata": {},
   "outputs": [
    {
     "data": {
      "text/plain": [
       "{'10_HBMS.docx': 0.42857142857142855,\n",
       " '07_OTS.docx': 0.0,\n",
       " '06_SHAS.docx': 0.14285714285714285,\n",
       " '01_BTMS.docx': 0.42857142857142855,\n",
       " '03_LabTracker.docx': 0.0,\n",
       " '04_CelO.docx': 0.0,\n",
       " '09_TileO.docx': 0.0,\n",
       " '02_H2S.docx': 0.2857142857142857,\n",
       " '05_TSS.docx': 0.0,\n",
       " '08_Block.docx': 0.0}"
      ]
     },
     "execution_count": 39,
     "metadata": {},
     "output_type": "execute_result"
    }
   ],
   "source": [
    "sol_stats_bert = get_best_domain_model(results, 'BERT')\n",
    "sol_stats_bert"
   ]
  },
  {
   "cell_type": "markdown",
   "metadata": {},
   "source": [
    "# RQ3: Prompt Style"
   ]
  },
  {
   "cell_type": "markdown",
   "metadata": {},
   "source": [
    "## Chain of Thought"
   ]
  },
  {
   "cell_type": "code",
   "execution_count": 73,
   "metadata": {},
   "outputs": [],
   "source": [
    "cot_ris = pd.read_csv('cot/cot-results.csv')\n",
    "cot_baseline = pd.read_csv('cot/cot-baseline.csv')\n",
    "# cot_ris = preprocess(cot_ris, cot_baseline)"
   ]
  },
  {
   "cell_type": "code",
   "execution_count": 75,
   "metadata": {},
   "outputs": [],
   "source": [
    "create_id(cot_ris)"
   ]
  },
  {
   "cell_type": "code",
   "execution_count": 95,
   "metadata": {},
   "outputs": [],
   "source": [
    "cot_ris_melt = pd.melt(cot_ris, id_vars=['Solution', 'File'], var_name='Metric', value_name='Value')"
   ]
  },
  {
   "cell_type": "code",
   "execution_count": 97,
   "metadata": {},
   "outputs": [
    {
     "data": {
      "text/html": [
       "<div>\n",
       "<style scoped>\n",
       "    .dataframe tbody tr th:only-of-type {\n",
       "        vertical-align: middle;\n",
       "    }\n",
       "\n",
       "    .dataframe tbody tr th {\n",
       "        vertical-align: top;\n",
       "    }\n",
       "\n",
       "    .dataframe thead th {\n",
       "        text-align: right;\n",
       "    }\n",
       "</style>\n",
       "<table border=\"1\" class=\"dataframe\">\n",
       "  <thead>\n",
       "    <tr style=\"text-align: right;\">\n",
       "      <th></th>\n",
       "      <th>Solution</th>\n",
       "      <th>File</th>\n",
       "      <th>Metric</th>\n",
       "      <th>Value</th>\n",
       "    </tr>\n",
       "  </thead>\n",
       "  <tbody>\n",
       "    <tr>\n",
       "      <th>0</th>\n",
       "      <td>S0</td>\n",
       "      <td>10_HBMS.docx</td>\n",
       "      <td>Cosine</td>\n",
       "      <td>0.916943</td>\n",
       "    </tr>\n",
       "    <tr>\n",
       "      <th>1</th>\n",
       "      <td>S0</td>\n",
       "      <td>10_HBMS.docx</td>\n",
       "      <td>Cosine</td>\n",
       "      <td>0.898438</td>\n",
       "    </tr>\n",
       "    <tr>\n",
       "      <th>2</th>\n",
       "      <td>S0</td>\n",
       "      <td>10_HBMS.docx</td>\n",
       "      <td>Cosine</td>\n",
       "      <td>0.894989</td>\n",
       "    </tr>\n",
       "    <tr>\n",
       "      <th>3</th>\n",
       "      <td>S0</td>\n",
       "      <td>10_HBMS.docx</td>\n",
       "      <td>Cosine</td>\n",
       "      <td>0.929443</td>\n",
       "    </tr>\n",
       "    <tr>\n",
       "      <th>4</th>\n",
       "      <td>S0</td>\n",
       "      <td>10_HBMS.docx</td>\n",
       "      <td>Cosine</td>\n",
       "      <td>0.895401</td>\n",
       "    </tr>\n",
       "    <tr>\n",
       "      <th>...</th>\n",
       "      <td>...</td>\n",
       "      <td>...</td>\n",
       "      <td>...</td>\n",
       "      <td>...</td>\n",
       "    </tr>\n",
       "    <tr>\n",
       "      <th>1195</th>\n",
       "      <td>S5</td>\n",
       "      <td>08_Block.docx</td>\n",
       "      <td>BERT</td>\n",
       "      <td>0.793114</td>\n",
       "    </tr>\n",
       "    <tr>\n",
       "      <th>1196</th>\n",
       "      <td>S5</td>\n",
       "      <td>08_Block.docx</td>\n",
       "      <td>BERT</td>\n",
       "      <td>0.783701</td>\n",
       "    </tr>\n",
       "    <tr>\n",
       "      <th>1197</th>\n",
       "      <td>S5</td>\n",
       "      <td>08_Block.docx</td>\n",
       "      <td>BERT</td>\n",
       "      <td>0.764506</td>\n",
       "    </tr>\n",
       "    <tr>\n",
       "      <th>1198</th>\n",
       "      <td>S5</td>\n",
       "      <td>08_Block.docx</td>\n",
       "      <td>BERT</td>\n",
       "      <td>0.769571</td>\n",
       "    </tr>\n",
       "    <tr>\n",
       "      <th>1199</th>\n",
       "      <td>S5</td>\n",
       "      <td>08_Block.docx</td>\n",
       "      <td>BERT</td>\n",
       "      <td>0.777942</td>\n",
       "    </tr>\n",
       "  </tbody>\n",
       "</table>\n",
       "<p>1200 rows × 4 columns</p>\n",
       "</div>"
      ],
      "text/plain": [
       "     Solution           File  Metric     Value\n",
       "0          S0   10_HBMS.docx  Cosine  0.916943\n",
       "1          S0   10_HBMS.docx  Cosine  0.898438\n",
       "2          S0   10_HBMS.docx  Cosine  0.894989\n",
       "3          S0   10_HBMS.docx  Cosine  0.929443\n",
       "4          S0   10_HBMS.docx  Cosine  0.895401\n",
       "...       ...            ...     ...       ...\n",
       "1195       S5  08_Block.docx    BERT  0.793114\n",
       "1196       S5  08_Block.docx    BERT  0.783701\n",
       "1197       S5  08_Block.docx    BERT  0.764506\n",
       "1198       S5  08_Block.docx    BERT  0.769571\n",
       "1199       S5  08_Block.docx    BERT  0.777942\n",
       "\n",
       "[1200 rows x 4 columns]"
      ]
     },
     "execution_count": 97,
     "metadata": {},
     "output_type": "execute_result"
    }
   ],
   "source": [
    "cot_ris_melt"
   ]
  },
  {
   "cell_type": "code",
   "execution_count": 117,
   "metadata": {},
   "outputs": [
    {
     "name": "stderr",
     "output_type": "stream",
     "text": [
      "/Users/giord/miniconda3/envs/ds/lib/python3.10/site-packages/seaborn/axisgrid.py:718: UserWarning: Using the boxplot function without specifying `order` is likely to produce an incorrect plot.\n",
      "  warnings.warn(warning)\n"
     ]
    },
    {
     "data": {
      "image/png": "[encoded data removed]",
      "text/plain": [
       "<Figure size 900x300 with 2 Axes>"
      ]
     },
     "metadata": {},
     "output_type": "display_data"
    }
   ],
   "source": [
    "g = sns.FacetGrid(col='Metric', data=cot_ris_melt, sharey=True, sharex=True, aspect=1.5)\n",
    "g.map(sns.boxplot, 'Solution', 'Value')\n",
    "g.set_titles('{col_name}')\n",
    "g.axes[0, 0].axhline(cot_baseline['Cosine'].mean(), color='red', linestyle='--', label='Baseline')\n",
    "g.axes[0, 1].axhline(cot_baseline['BERT'].mean(), color='red', linestyle='--')\n",
    "g.figure.legend(loc='lower center')\n",
    "plt.savefig('cot/cot-boxplot.pdf')\n",
    "plt.show()"
   ]
  },
  {
   "cell_type": "code",
   "execution_count": 119,
   "metadata": {},
   "outputs": [],
   "source": [
    "sol_stats_cosine = compute_win_stat(cot_ris, baseline, 'Cosine')\n",
    "sol_stats_cosine = pd.DataFrame(sol_stats_cosine).T"
   ]
  },
  {
   "cell_type": "code",
   "execution_count": 120,
   "metadata": {},
   "outputs": [],
   "source": [
    "sol_stats_bert = compute_win_stat(cot_ris, baseline, 'BERT')\n",
    "sol_stats_bert = pd.DataFrame(sol_stats_bert).T"
   ]
  },
  {
   "cell_type": "code",
   "execution_count": 121,
   "metadata": {},
   "outputs": [],
   "source": [
    "sol_stats_cosine['Cosine'] = sol_stats_cosine.apply(lambda x: f\"{x['win']} / {x['tie']} / {x['loss']}\", axis=1)\n",
    "sol_stats_cosine = sol_stats_cosine.drop(columns=['win', 'tie', 'loss'])\n",
    "sol_stats_bert['BERT'] = sol_stats_bert.apply(lambda x: f\"{x['win']} / {x['tie']} / {x['loss']}\", axis=1)\n",
    "sol_stats_bert = sol_stats_bert.drop(columns=['win', 'tie', 'loss'])\n",
    "stats = pd.concat([sol_stats_cosine, sol_stats_bert], axis=1)"
   ]
  },
  {
   "cell_type": "code",
   "execution_count": 131,
   "metadata": {},
   "outputs": [
    {
     "data": {
      "text/html": [
       "<div>\n",
       "<style scoped>\n",
       "    .dataframe tbody tr th:only-of-type {\n",
       "        vertical-align: middle;\n",
       "    }\n",
       "\n",
       "    .dataframe tbody tr th {\n",
       "        vertical-align: top;\n",
       "    }\n",
       "\n",
       "    .dataframe thead th {\n",
       "        text-align: right;\n",
       "    }\n",
       "</style>\n",
       "<table border=\"1\" class=\"dataframe\">\n",
       "  <thead>\n",
       "    <tr style=\"text-align: right;\">\n",
       "      <th></th>\n",
       "      <th>Cosine</th>\n",
       "      <th>BERT</th>\n",
       "    </tr>\n",
       "  </thead>\n",
       "  <tbody>\n",
       "    <tr>\n",
       "      <th>S0</th>\n",
       "      <td>7 / 1 / 2</td>\n",
       "      <td>4 / 0 / 6</td>\n",
       "    </tr>\n",
       "    <tr>\n",
       "      <th>S1</th>\n",
       "      <td>6 / 1 / 3</td>\n",
       "      <td>1 / 0 / 9</td>\n",
       "    </tr>\n",
       "    <tr>\n",
       "      <th>S2</th>\n",
       "      <td>6 / 0 / 4</td>\n",
       "      <td>1 / 0 / 9</td>\n",
       "    </tr>\n",
       "    <tr>\n",
       "      <th>S3</th>\n",
       "      <td>8 / 0 / 2</td>\n",
       "      <td>5 / 0 / 5</td>\n",
       "    </tr>\n",
       "    <tr>\n",
       "      <th>S4</th>\n",
       "      <td>6 / 2 / 2</td>\n",
       "      <td>3 / 0 / 7</td>\n",
       "    </tr>\n",
       "    <tr>\n",
       "      <th>S5</th>\n",
       "      <td>7 / 0 / 3</td>\n",
       "      <td>2 / 1 / 7</td>\n",
       "    </tr>\n",
       "  </tbody>\n",
       "</table>\n",
       "</div>"
      ],
      "text/plain": [
       "       Cosine       BERT\n",
       "S0  7 / 1 / 2  4 / 0 / 6\n",
       "S1  6 / 1 / 3  1 / 0 / 9\n",
       "S2  6 / 0 / 4  1 / 0 / 9\n",
       "S3  8 / 0 / 2  5 / 0 / 5\n",
       "S4  6 / 2 / 2  3 / 0 / 7\n",
       "S5  7 / 0 / 3  2 / 1 / 7"
      ]
     },
     "execution_count": 131,
     "metadata": {},
     "output_type": "execute_result"
    }
   ],
   "source": [
    "stats"
   ]
  },
  {
   "cell_type": "code",
   "execution_count": 123,
   "metadata": {},
   "outputs": [],
   "source": [
    "stats.to_latex('cot/cot-stats.tex')"
   ]
  },
  {
   "cell_type": "markdown",
   "metadata": {},
   "source": [
    "## Few Shot"
   ]
  },
  {
   "cell_type": "code",
   "execution_count": 127,
   "metadata": {},
   "outputs": [],
   "source": [
    "few_shot = pd.read_csv('few-shot/fs-results.csv')\n",
    "few_shot_baseline = pd.read_csv('few-shot/fs-baseline.csv')\n",
    "create_id(few_shot)"
   ]
  },
  {
   "cell_type": "code",
   "execution_count": 128,
   "metadata": {},
   "outputs": [],
   "source": [
    "few_shot_melt = pd.melt(few_shot, id_vars=['Solution', 'File'], var_name='Metric', value_name='Value')"
   ]
  },
  {
   "cell_type": "code",
   "execution_count": 130,
   "metadata": {},
   "outputs": [
    {
     "name": "stderr",
     "output_type": "stream",
     "text": [
      "/Users/giord/miniconda3/envs/ds/lib/python3.10/site-packages/seaborn/axisgrid.py:718: UserWarning: Using the boxplot function without specifying `order` is likely to produce an incorrect plot.\n",
      "  warnings.warn(warning)\n"
     ]
    },
    {
     "data": {
      "image/png": "[encoded data removed]",
      "text/plain": [
       "<Figure size 900x300 with 2 Axes>"
      ]
     },
     "metadata": {},
     "output_type": "display_data"
    }
   ],
   "source": [
    "g = sns.FacetGrid(col='Metric', data=few_shot_melt, sharey=True, sharex=True, aspect=1.5)\n",
    "g.map(sns.boxplot, 'Solution', 'Value')\n",
    "g.set_titles('{col_name}')\n",
    "g.axes[0, 0].axhline(few_shot_baseline['Cosine'].mean(), color='red', linestyle='--', label='Baseline')\n",
    "g.axes[0, 1].axhline(few_shot_baseline['BERT'].mean(), color='red', linestyle='--')\n",
    "g.figure.legend(loc='lower center')\n",
    "plt.savefig('few-shot/fs-boxplot.pdf')\n",
    "plt.show()"
   ]
  },
  {
   "cell_type": "code",
   "execution_count": 133,
   "metadata": {},
   "outputs": [],
   "source": [
    "fs_stats_cosine = compute_win_stat(few_shot, baseline, 'Cosine')\n",
    "fs_stats_cosine = pd.DataFrame(fs_stats_cosine).T"
   ]
  },
  {
   "cell_type": "code",
   "execution_count": 134,
   "metadata": {},
   "outputs": [
    {
     "data": {
      "text/html": [
       "<div>\n",
       "<style scoped>\n",
       "    .dataframe tbody tr th:only-of-type {\n",
       "        vertical-align: middle;\n",
       "    }\n",
       "\n",
       "    .dataframe tbody tr th {\n",
       "        vertical-align: top;\n",
       "    }\n",
       "\n",
       "    .dataframe thead th {\n",
       "        text-align: right;\n",
       "    }\n",
       "</style>\n",
       "<table border=\"1\" class=\"dataframe\">\n",
       "  <thead>\n",
       "    <tr style=\"text-align: right;\">\n",
       "      <th></th>\n",
       "      <th>win</th>\n",
       "      <th>tie</th>\n",
       "      <th>loss</th>\n",
       "    </tr>\n",
       "  </thead>\n",
       "  <tbody>\n",
       "    <tr>\n",
       "      <th>S0</th>\n",
       "      <td>5</td>\n",
       "      <td>0</td>\n",
       "      <td>5</td>\n",
       "    </tr>\n",
       "    <tr>\n",
       "      <th>S1</th>\n",
       "      <td>8</td>\n",
       "      <td>0</td>\n",
       "      <td>2</td>\n",
       "    </tr>\n",
       "    <tr>\n",
       "      <th>S2</th>\n",
       "      <td>6</td>\n",
       "      <td>1</td>\n",
       "      <td>3</td>\n",
       "    </tr>\n",
       "    <tr>\n",
       "      <th>S3</th>\n",
       "      <td>9</td>\n",
       "      <td>0</td>\n",
       "      <td>1</td>\n",
       "    </tr>\n",
       "    <tr>\n",
       "      <th>S4</th>\n",
       "      <td>6</td>\n",
       "      <td>1</td>\n",
       "      <td>3</td>\n",
       "    </tr>\n",
       "    <tr>\n",
       "      <th>S5</th>\n",
       "      <td>7</td>\n",
       "      <td>0</td>\n",
       "      <td>3</td>\n",
       "    </tr>\n",
       "  </tbody>\n",
       "</table>\n",
       "</div>"
      ],
      "text/plain": [
       "    win  tie  loss\n",
       "S0    5    0     5\n",
       "S1    8    0     2\n",
       "S2    6    1     3\n",
       "S3    9    0     1\n",
       "S4    6    1     3\n",
       "S5    7    0     3"
      ]
     },
     "execution_count": 134,
     "metadata": {},
     "output_type": "execute_result"
    }
   ],
   "source": [
    "fs_stats_cosine"
   ]
  },
  {
   "cell_type": "code",
   "execution_count": 135,
   "metadata": {},
   "outputs": [],
   "source": [
    "fs_stats_bert = compute_win_stat(few_shot, baseline, 'BERT')\n",
    "fs_stats_bert = pd.DataFrame(fs_stats_bert).T"
   ]
  },
  {
   "cell_type": "code",
   "execution_count": 136,
   "metadata": {},
   "outputs": [
    {
     "data": {
      "text/html": [
       "<div>\n",
       "<style scoped>\n",
       "    .dataframe tbody tr th:only-of-type {\n",
       "        vertical-align: middle;\n",
       "    }\n",
       "\n",
       "    .dataframe tbody tr th {\n",
       "        vertical-align: top;\n",
       "    }\n",
       "\n",
       "    .dataframe thead th {\n",
       "        text-align: right;\n",
       "    }\n",
       "</style>\n",
       "<table border=\"1\" class=\"dataframe\">\n",
       "  <thead>\n",
       "    <tr style=\"text-align: right;\">\n",
       "      <th></th>\n",
       "      <th>win</th>\n",
       "      <th>tie</th>\n",
       "      <th>loss</th>\n",
       "    </tr>\n",
       "  </thead>\n",
       "  <tbody>\n",
       "    <tr>\n",
       "      <th>S0</th>\n",
       "      <td>5</td>\n",
       "      <td>1</td>\n",
       "      <td>4</td>\n",
       "    </tr>\n",
       "    <tr>\n",
       "      <th>S1</th>\n",
       "      <td>4</td>\n",
       "      <td>0</td>\n",
       "      <td>6</td>\n",
       "    </tr>\n",
       "    <tr>\n",
       "      <th>S2</th>\n",
       "      <td>4</td>\n",
       "      <td>2</td>\n",
       "      <td>4</td>\n",
       "    </tr>\n",
       "    <tr>\n",
       "      <th>S3</th>\n",
       "      <td>2</td>\n",
       "      <td>0</td>\n",
       "      <td>8</td>\n",
       "    </tr>\n",
       "    <tr>\n",
       "      <th>S4</th>\n",
       "      <td>3</td>\n",
       "      <td>0</td>\n",
       "      <td>7</td>\n",
       "    </tr>\n",
       "    <tr>\n",
       "      <th>S5</th>\n",
       "      <td>3</td>\n",
       "      <td>0</td>\n",
       "      <td>7</td>\n",
       "    </tr>\n",
       "  </tbody>\n",
       "</table>\n",
       "</div>"
      ],
      "text/plain": [
       "    win  tie  loss\n",
       "S0    5    1     4\n",
       "S1    4    0     6\n",
       "S2    4    2     4\n",
       "S3    2    0     8\n",
       "S4    3    0     7\n",
       "S5    3    0     7"
      ]
     },
     "execution_count": 136,
     "metadata": {},
     "output_type": "execute_result"
    }
   ],
   "source": [
    "fs_stats_bert"
   ]
  },
  {
   "cell_type": "code",
   "execution_count": 137,
   "metadata": {},
   "outputs": [],
   "source": [
    "fs_stats_cosine['Cosine'] = fs_stats_cosine.apply(lambda x: f\"{x['win']} / {x['tie']} / {x['loss']}\", axis=1)\n",
    "fs_stats_cosine = fs_stats_cosine.drop(columns=['win', 'tie', 'loss'])\n",
    "fs_stats_bert['BERT'] = fs_stats_bert.apply(lambda x: f\"{x['win']} / {x['tie']} / {x['loss']}\", axis=1)\n",
    "fs_stats_bert = fs_stats_bert.drop(columns=['win', 'tie', 'loss'])\n",
    "stats = pd.concat([fs_stats_cosine, fs_stats_bert], axis=1)"
   ]
  },
  {
   "cell_type": "code",
   "execution_count": 138,
   "metadata": {},
   "outputs": [
    {
     "data": {
      "text/html": [
       "<div>\n",
       "<style scoped>\n",
       "    .dataframe tbody tr th:only-of-type {\n",
       "        vertical-align: middle;\n",
       "    }\n",
       "\n",
       "    .dataframe tbody tr th {\n",
       "        vertical-align: top;\n",
       "    }\n",
       "\n",
       "    .dataframe thead th {\n",
       "        text-align: right;\n",
       "    }\n",
       "</style>\n",
       "<table border=\"1\" class=\"dataframe\">\n",
       "  <thead>\n",
       "    <tr style=\"text-align: right;\">\n",
       "      <th></th>\n",
       "      <th>Cosine</th>\n",
       "      <th>BERT</th>\n",
       "    </tr>\n",
       "  </thead>\n",
       "  <tbody>\n",
       "    <tr>\n",
       "      <th>S0</th>\n",
       "      <td>5 / 0 / 5</td>\n",
       "      <td>5 / 1 / 4</td>\n",
       "    </tr>\n",
       "    <tr>\n",
       "      <th>S1</th>\n",
       "      <td>8 / 0 / 2</td>\n",
       "      <td>4 / 0 / 6</td>\n",
       "    </tr>\n",
       "    <tr>\n",
       "      <th>S2</th>\n",
       "      <td>6 / 1 / 3</td>\n",
       "      <td>4 / 2 / 4</td>\n",
       "    </tr>\n",
       "    <tr>\n",
       "      <th>S3</th>\n",
       "      <td>9 / 0 / 1</td>\n",
       "      <td>2 / 0 / 8</td>\n",
       "    </tr>\n",
       "    <tr>\n",
       "      <th>S4</th>\n",
       "      <td>6 / 1 / 3</td>\n",
       "      <td>3 / 0 / 7</td>\n",
       "    </tr>\n",
       "    <tr>\n",
       "      <th>S5</th>\n",
       "      <td>7 / 0 / 3</td>\n",
       "      <td>3 / 0 / 7</td>\n",
       "    </tr>\n",
       "  </tbody>\n",
       "</table>\n",
       "</div>"
      ],
      "text/plain": [
       "       Cosine       BERT\n",
       "S0  5 / 0 / 5  5 / 1 / 4\n",
       "S1  8 / 0 / 2  4 / 0 / 6\n",
       "S2  6 / 1 / 3  4 / 2 / 4\n",
       "S3  9 / 0 / 1  2 / 0 / 8\n",
       "S4  6 / 1 / 3  3 / 0 / 7\n",
       "S5  7 / 0 / 3  3 / 0 / 7"
      ]
     },
     "execution_count": 138,
     "metadata": {},
     "output_type": "execute_result"
    }
   ],
   "source": [
    "stats"
   ]
  },
  {
   "cell_type": "code",
   "execution_count": 139,
   "metadata": {},
   "outputs": [],
   "source": [
    "stats.to_latex('few-shot/fs-stats.tex')"
   ]
  }
 ],
 "metadata": {
  "kernelspec": {
   "display_name": "ds",
   "language": "python",
   "name": "python3"
  },
  "language_info": {
   "codemirror_mode": {
    "name": "ipython",
    "version": 3
   },
   "file_extension": ".py",
   "mimetype": "text/x-python",
   "name": "python",
   "nbconvert_exporter": "python",
   "pygments_lexer": "ipython3",
   "version": "3.10.16"
  }
 },
 "nbformat": 4,
 "nbformat_minor": 2
}
