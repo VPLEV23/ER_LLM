{
 "cells": [
  {
   "cell_type": "code",
   "execution_count": 1,
   "metadata": {},
   "outputs": [],
   "source": [
    "import pandas as pd\n",
    "import matplotlib.pyplot as plt\n",
    "import seaborn as sns\n",
    "\n",
    "sns.set_theme(style=\"whitegrid\", context=\"paper\", font_scale=1.5)"
   ]
  },
  {
   "cell_type": "code",
   "execution_count": 2,
   "metadata": {},
   "outputs": [],
   "source": [
    "def create_id(results):\n",
    "  solutions = results['Solution'].unique()\n",
    "  solution_to_id = {solution: i for i, solution in enumerate(solutions)}\n",
    "  results['Solution'] = results['Solution'].map(solution_to_id)"
   ]
  },
  {
   "cell_type": "markdown",
   "metadata": {},
   "source": [
    "# RQ2: Generalizability"
   ]
  },
  {
   "cell_type": "code",
   "execution_count": null,
   "metadata": {},
   "outputs": [
    {
     "data": {
      "text/plain": [
       "File\n",
       "01_BTMS.docx          10\n",
       "02_H2S.docx           10\n",
       "03_LabTracker.docx    10\n",
       "04_CelO.docx          10\n",
       "05_TSS.docx           10\n",
       "06_SHAS.docx          10\n",
       "07_OTS.docx           10\n",
       "08_Block.docx         10\n",
       "09_TileO.docx         10\n",
       "10_HBMS.docx          10\n",
       "Name: count, dtype: int64"
      ]
     },
     "execution_count": 3,
     "metadata": {},
     "output_type": "execute_result"
    }
   ],
   "source": [
    "baseline = pd.read_csv('zero-shot/baseline.csv')"
   ]
  },
  {
   "cell_type": "code",
   "execution_count": 4,
   "metadata": {},
   "outputs": [
    {
     "data": {
      "text/html": [
       "<div>\n",
       "<style scoped>\n",
       "    .dataframe tbody tr th:only-of-type {\n",
       "        vertical-align: middle;\n",
       "    }\n",
       "\n",
       "    .dataframe tbody tr th {\n",
       "        vertical-align: top;\n",
       "    }\n",
       "\n",
       "    .dataframe thead th {\n",
       "        text-align: right;\n",
       "    }\n",
       "</style>\n",
       "<table border=\"1\" class=\"dataframe\">\n",
       "  <thead>\n",
       "    <tr style=\"text-align: right;\">\n",
       "      <th></th>\n",
       "      <th>File</th>\n",
       "      <th>Solution</th>\n",
       "      <th>Cosine</th>\n",
       "      <th>BERT</th>\n",
       "    </tr>\n",
       "  </thead>\n",
       "  <tbody>\n",
       "    <tr>\n",
       "      <th>0</th>\n",
       "      <td>10_HBMS.docx</td>\n",
       "      <td>{'temperature': 0.6, 'top_k': 50, 'top_p': 1.0...</td>\n",
       "      <td>0.853066</td>\n",
       "      <td>0.893256</td>\n",
       "    </tr>\n",
       "    <tr>\n",
       "      <th>1</th>\n",
       "      <td>10_HBMS.docx</td>\n",
       "      <td>{'temperature': 0.6, 'top_k': 50, 'top_p': 1.0...</td>\n",
       "      <td>0.853066</td>\n",
       "      <td>0.884642</td>\n",
       "    </tr>\n",
       "    <tr>\n",
       "      <th>2</th>\n",
       "      <td>10_HBMS.docx</td>\n",
       "      <td>{'temperature': 0.6, 'top_k': 50, 'top_p': 1.0...</td>\n",
       "      <td>0.853066</td>\n",
       "      <td>0.888773</td>\n",
       "    </tr>\n",
       "    <tr>\n",
       "      <th>3</th>\n",
       "      <td>10_HBMS.docx</td>\n",
       "      <td>{'temperature': 0.6, 'top_k': 50, 'top_p': 1.0...</td>\n",
       "      <td>0.853066</td>\n",
       "      <td>0.915135</td>\n",
       "    </tr>\n",
       "    <tr>\n",
       "      <th>4</th>\n",
       "      <td>10_HBMS.docx</td>\n",
       "      <td>{'temperature': 0.6, 'top_k': 50, 'top_p': 1.0...</td>\n",
       "      <td>0.853066</td>\n",
       "      <td>0.911514</td>\n",
       "    </tr>\n",
       "    <tr>\n",
       "      <th>...</th>\n",
       "      <td>...</td>\n",
       "      <td>...</td>\n",
       "      <td>...</td>\n",
       "      <td>...</td>\n",
       "    </tr>\n",
       "    <tr>\n",
       "      <th>595</th>\n",
       "      <td>08_Block.docx</td>\n",
       "      <td>{'temperature': 1.1, 'top_k': 50, 'top_p': 0.9...</td>\n",
       "      <td>0.717769</td>\n",
       "      <td>0.898185</td>\n",
       "    </tr>\n",
       "    <tr>\n",
       "      <th>596</th>\n",
       "      <td>08_Block.docx</td>\n",
       "      <td>{'temperature': 1.1, 'top_k': 50, 'top_p': 0.9...</td>\n",
       "      <td>0.717769</td>\n",
       "      <td>0.890098</td>\n",
       "    </tr>\n",
       "    <tr>\n",
       "      <th>597</th>\n",
       "      <td>08_Block.docx</td>\n",
       "      <td>{'temperature': 1.1, 'top_k': 50, 'top_p': 0.9...</td>\n",
       "      <td>0.717769</td>\n",
       "      <td>0.894356</td>\n",
       "    </tr>\n",
       "    <tr>\n",
       "      <th>598</th>\n",
       "      <td>08_Block.docx</td>\n",
       "      <td>{'temperature': 1.1, 'top_k': 50, 'top_p': 0.9...</td>\n",
       "      <td>0.717769</td>\n",
       "      <td>0.873535</td>\n",
       "    </tr>\n",
       "    <tr>\n",
       "      <th>599</th>\n",
       "      <td>08_Block.docx</td>\n",
       "      <td>{'temperature': 1.1, 'top_k': 50, 'top_p': 0.9...</td>\n",
       "      <td>0.717769</td>\n",
       "      <td>0.904549</td>\n",
       "    </tr>\n",
       "  </tbody>\n",
       "</table>\n",
       "<p>600 rows × 4 columns</p>\n",
       "</div>"
      ],
      "text/plain": [
       "              File                                           Solution  \\\n",
       "0     10_HBMS.docx  {'temperature': 0.6, 'top_k': 50, 'top_p': 1.0...   \n",
       "1     10_HBMS.docx  {'temperature': 0.6, 'top_k': 50, 'top_p': 1.0...   \n",
       "2     10_HBMS.docx  {'temperature': 0.6, 'top_k': 50, 'top_p': 1.0...   \n",
       "3     10_HBMS.docx  {'temperature': 0.6, 'top_k': 50, 'top_p': 1.0...   \n",
       "4     10_HBMS.docx  {'temperature': 0.6, 'top_k': 50, 'top_p': 1.0...   \n",
       "..             ...                                                ...   \n",
       "595  08_Block.docx  {'temperature': 1.1, 'top_k': 50, 'top_p': 0.9...   \n",
       "596  08_Block.docx  {'temperature': 1.1, 'top_k': 50, 'top_p': 0.9...   \n",
       "597  08_Block.docx  {'temperature': 1.1, 'top_k': 50, 'top_p': 0.9...   \n",
       "598  08_Block.docx  {'temperature': 1.1, 'top_k': 50, 'top_p': 0.9...   \n",
       "599  08_Block.docx  {'temperature': 1.1, 'top_k': 50, 'top_p': 0.9...   \n",
       "\n",
       "       Cosine      BERT  \n",
       "0    0.853066  0.893256  \n",
       "1    0.853066  0.884642  \n",
       "2    0.853066  0.888773  \n",
       "3    0.853066  0.915135  \n",
       "4    0.853066  0.911514  \n",
       "..        ...       ...  \n",
       "595  0.717769  0.898185  \n",
       "596  0.717769  0.890098  \n",
       "597  0.717769  0.894356  \n",
       "598  0.717769  0.873535  \n",
       "599  0.717769  0.904549  \n",
       "\n",
       "[600 rows x 4 columns]"
      ]
     },
     "execution_count": 4,
     "metadata": {},
     "output_type": "execute_result"
    }
   ],
   "source": [
    "results = pd.read_csv('zero-shot/results.csv')\n",
    "results"
   ]
  },
  {
   "cell_type": "code",
   "execution_count": 5,
   "metadata": {},
   "outputs": [],
   "source": [
    "create_id(results)"
   ]
  },
  {
   "cell_type": "code",
   "execution_count": 7,
   "metadata": {},
   "outputs": [
    {
     "name": "stderr",
     "output_type": "stream",
     "text": [
      "/var/folders/4c/mgvn0dc97_9gst9l7jbv9n640000gn/T/ipykernel_37723/1038009479.py:2: FutureWarning: A value is trying to be set on a copy of a DataFrame or Series through chained assignment using an inplace method.\n",
      "The behavior will change in pandas 3.0. This inplace method will never work because the intermediate object on which we are setting values always behaves as a copy.\n",
      "\n",
      "For example, when doing 'df[col].method(value, inplace=True)', try using 'df.method({col: value}, inplace=True)' or df[col] = df[col].method(value) instead, to perform the operation inplace on the original object.\n",
      "\n",
      "\n",
      "  results['Solution'].fillna('Baseline', inplace=True)\n",
      "/var/folders/4c/mgvn0dc97_9gst9l7jbv9n640000gn/T/ipykernel_37723/1038009479.py:2: FutureWarning: Setting an item of incompatible dtype is deprecated and will raise an error in a future version of pandas. Value 'Baseline' has dtype incompatible with float64, please explicitly cast to a compatible dtype first.\n",
      "  results['Solution'].fillna('Baseline', inplace=True)\n"
     ]
    }
   ],
   "source": [
    "results = pd.concat([results, baseline])\n",
    "results['Solution'].fillna('Baseline', inplace=True)"
   ]
  },
  {
   "cell_type": "code",
   "execution_count": 9,
   "metadata": {},
   "outputs": [],
   "source": [
    "results_melt = pd.melt(results, id_vars=['File', 'Solution'], var_name='Metric', value_name='Value')"
   ]
  },
  {
   "cell_type": "code",
   "execution_count": 10,
   "metadata": {},
   "outputs": [],
   "source": [
    "plot_data = results_melt.copy()\n",
    "plot_data.loc[plot_data['Solution'] != 'Baseline', 'Solution'] = 'Optimized'"
   ]
  },
  {
   "cell_type": "code",
   "execution_count": 11,
   "metadata": {},
   "outputs": [
    {
     "name": "stderr",
     "output_type": "stream",
     "text": [
      "/Users/giord/miniconda3/envs/ds/lib/python3.10/site-packages/seaborn/axisgrid.py:718: UserWarning: Using the boxplot function without specifying `order` is likely to produce an incorrect plot.\n",
      "  warnings.warn(warning)\n"
     ]
    },
    {
     "data": {
      "image/png": "[encoded data removed]",
      "text/plain": [
       "<Figure size 4500x600 with 20 Axes>"
      ]
     },
     "metadata": {},
     "output_type": "display_data"
    }
   ],
   "source": [
    "grid = sns.FacetGrid(col='File', row='Metric', data=plot_data, sharey=True, sharex=True, aspect=1.5)\n",
    "grid.map(sns.boxplot, 'Solution', 'Value')\n",
    "plt.show()"
   ]
  },
  {
   "cell_type": "code",
   "execution_count": 12,
   "metadata": {},
   "outputs": [],
   "source": [
    "means = plot_data.groupby(['File', 'Metric', 'Solution']).agg(['mean', 'std'])"
   ]
  },
  {
   "cell_type": "code",
   "execution_count": 13,
   "metadata": {},
   "outputs": [
    {
     "data": {
      "text/html": [
       "<div>\n",
       "<style scoped>\n",
       "    .dataframe tbody tr th:only-of-type {\n",
       "        vertical-align: middle;\n",
       "    }\n",
       "\n",
       "    .dataframe tbody tr th {\n",
       "        vertical-align: top;\n",
       "    }\n",
       "\n",
       "    .dataframe thead tr th {\n",
       "        text-align: left;\n",
       "    }\n",
       "\n",
       "    .dataframe thead tr:last-of-type th {\n",
       "        text-align: right;\n",
       "    }\n",
       "</style>\n",
       "<table border=\"1\" class=\"dataframe\">\n",
       "  <thead>\n",
       "    <tr>\n",
       "      <th></th>\n",
       "      <th></th>\n",
       "      <th></th>\n",
       "      <th colspan=\"2\" halign=\"left\">Value</th>\n",
       "    </tr>\n",
       "    <tr>\n",
       "      <th></th>\n",
       "      <th></th>\n",
       "      <th></th>\n",
       "      <th>mean</th>\n",
       "      <th>std</th>\n",
       "    </tr>\n",
       "    <tr>\n",
       "      <th>File</th>\n",
       "      <th>Metric</th>\n",
       "      <th>Solution</th>\n",
       "      <th></th>\n",
       "      <th></th>\n",
       "    </tr>\n",
       "  </thead>\n",
       "  <tbody>\n",
       "    <tr>\n",
       "      <th rowspan=\"4\" valign=\"top\">01_BTMS.docx</th>\n",
       "      <th rowspan=\"2\" valign=\"top\">BERT</th>\n",
       "      <th>Baseline</th>\n",
       "      <td>0.815459</td>\n",
       "      <td>0.012764</td>\n",
       "    </tr>\n",
       "    <tr>\n",
       "      <th>Optimized</th>\n",
       "      <td>0.829303</td>\n",
       "      <td>0.037390</td>\n",
       "    </tr>\n",
       "    <tr>\n",
       "      <th rowspan=\"2\" valign=\"top\">Cosine</th>\n",
       "      <th>Baseline</th>\n",
       "      <td>0.647522</td>\n",
       "      <td>0.009353</td>\n",
       "    </tr>\n",
       "    <tr>\n",
       "      <th>Optimized</th>\n",
       "      <td>0.547337</td>\n",
       "      <td>0.121659</td>\n",
       "    </tr>\n",
       "    <tr>\n",
       "      <th rowspan=\"4\" valign=\"top\">02_H2S.docx</th>\n",
       "      <th rowspan=\"2\" valign=\"top\">BERT</th>\n",
       "      <th>Baseline</th>\n",
       "      <td>0.805376</td>\n",
       "      <td>0.010316</td>\n",
       "    </tr>\n",
       "    <tr>\n",
       "      <th>Optimized</th>\n",
       "      <td>0.803816</td>\n",
       "      <td>0.039132</td>\n",
       "    </tr>\n",
       "    <tr>\n",
       "      <th rowspan=\"2\" valign=\"top\">Cosine</th>\n",
       "      <th>Baseline</th>\n",
       "      <td>0.606487</td>\n",
       "      <td>0.012017</td>\n",
       "    </tr>\n",
       "    <tr>\n",
       "      <th>Optimized</th>\n",
       "      <td>0.558692</td>\n",
       "      <td>0.148864</td>\n",
       "    </tr>\n",
       "    <tr>\n",
       "      <th rowspan=\"4\" valign=\"top\">03_LabTracker.docx</th>\n",
       "      <th rowspan=\"2\" valign=\"top\">BERT</th>\n",
       "      <th>Baseline</th>\n",
       "      <td>0.927252</td>\n",
       "      <td>0.008912</td>\n",
       "    </tr>\n",
       "    <tr>\n",
       "      <th>Optimized</th>\n",
       "      <td>0.844863</td>\n",
       "      <td>0.033284</td>\n",
       "    </tr>\n",
       "    <tr>\n",
       "      <th rowspan=\"2\" valign=\"top\">Cosine</th>\n",
       "      <th>Baseline</th>\n",
       "      <td>0.747958</td>\n",
       "      <td>0.008461</td>\n",
       "    </tr>\n",
       "    <tr>\n",
       "      <th>Optimized</th>\n",
       "      <td>0.657942</td>\n",
       "      <td>0.101715</td>\n",
       "    </tr>\n",
       "    <tr>\n",
       "      <th rowspan=\"4\" valign=\"top\">04_CelO.docx</th>\n",
       "      <th rowspan=\"2\" valign=\"top\">BERT</th>\n",
       "      <th>Baseline</th>\n",
       "      <td>0.891602</td>\n",
       "      <td>0.008230</td>\n",
       "    </tr>\n",
       "    <tr>\n",
       "      <th>Optimized</th>\n",
       "      <td>0.840642</td>\n",
       "      <td>0.044012</td>\n",
       "    </tr>\n",
       "    <tr>\n",
       "      <th rowspan=\"2\" valign=\"top\">Cosine</th>\n",
       "      <th>Baseline</th>\n",
       "      <td>0.606469</td>\n",
       "      <td>0.008463</td>\n",
       "    </tr>\n",
       "    <tr>\n",
       "      <th>Optimized</th>\n",
       "      <td>0.644370</td>\n",
       "      <td>0.080070</td>\n",
       "    </tr>\n",
       "    <tr>\n",
       "      <th rowspan=\"4\" valign=\"top\">05_TSS.docx</th>\n",
       "      <th rowspan=\"2\" valign=\"top\">BERT</th>\n",
       "      <th>Baseline</th>\n",
       "      <td>0.895203</td>\n",
       "      <td>0.012670</td>\n",
       "    </tr>\n",
       "    <tr>\n",
       "      <th>Optimized</th>\n",
       "      <td>0.811496</td>\n",
       "      <td>0.056776</td>\n",
       "    </tr>\n",
       "    <tr>\n",
       "      <th rowspan=\"2\" valign=\"top\">Cosine</th>\n",
       "      <th>Baseline</th>\n",
       "      <td>0.788428</td>\n",
       "      <td>0.008242</td>\n",
       "    </tr>\n",
       "    <tr>\n",
       "      <th>Optimized</th>\n",
       "      <td>0.577603</td>\n",
       "      <td>0.150527</td>\n",
       "    </tr>\n",
       "    <tr>\n",
       "      <th rowspan=\"4\" valign=\"top\">06_SHAS.docx</th>\n",
       "      <th rowspan=\"2\" valign=\"top\">BERT</th>\n",
       "      <th>Baseline</th>\n",
       "      <td>0.898135</td>\n",
       "      <td>0.012730</td>\n",
       "    </tr>\n",
       "    <tr>\n",
       "      <th>Optimized</th>\n",
       "      <td>0.857225</td>\n",
       "      <td>0.048742</td>\n",
       "    </tr>\n",
       "    <tr>\n",
       "      <th rowspan=\"2\" valign=\"top\">Cosine</th>\n",
       "      <th>Baseline</th>\n",
       "      <td>0.802962</td>\n",
       "      <td>0.011497</td>\n",
       "    </tr>\n",
       "    <tr>\n",
       "      <th>Optimized</th>\n",
       "      <td>0.698289</td>\n",
       "      <td>0.094379</td>\n",
       "    </tr>\n",
       "    <tr>\n",
       "      <th rowspan=\"4\" valign=\"top\">07_OTS.docx</th>\n",
       "      <th rowspan=\"2\" valign=\"top\">BERT</th>\n",
       "      <th>Baseline</th>\n",
       "      <td>0.903786</td>\n",
       "      <td>0.006431</td>\n",
       "    </tr>\n",
       "    <tr>\n",
       "      <th>Optimized</th>\n",
       "      <td>0.832801</td>\n",
       "      <td>0.045722</td>\n",
       "    </tr>\n",
       "    <tr>\n",
       "      <th rowspan=\"2\" valign=\"top\">Cosine</th>\n",
       "      <th>Baseline</th>\n",
       "      <td>0.766642</td>\n",
       "      <td>0.009566</td>\n",
       "    </tr>\n",
       "    <tr>\n",
       "      <th>Optimized</th>\n",
       "      <td>0.605210</td>\n",
       "      <td>0.130429</td>\n",
       "    </tr>\n",
       "    <tr>\n",
       "      <th rowspan=\"4\" valign=\"top\">08_Block.docx</th>\n",
       "      <th rowspan=\"2\" valign=\"top\">BERT</th>\n",
       "      <th>Baseline</th>\n",
       "      <td>0.925241</td>\n",
       "      <td>0.013749</td>\n",
       "    </tr>\n",
       "    <tr>\n",
       "      <th>Optimized</th>\n",
       "      <td>0.858821</td>\n",
       "      <td>0.041777</td>\n",
       "    </tr>\n",
       "    <tr>\n",
       "      <th rowspan=\"2\" valign=\"top\">Cosine</th>\n",
       "      <th>Baseline</th>\n",
       "      <td>0.756314</td>\n",
       "      <td>0.011094</td>\n",
       "    </tr>\n",
       "    <tr>\n",
       "      <th>Optimized</th>\n",
       "      <td>0.644903</td>\n",
       "      <td>0.073513</td>\n",
       "    </tr>\n",
       "    <tr>\n",
       "      <th rowspan=\"4\" valign=\"top\">09_TileO.docx</th>\n",
       "      <th rowspan=\"2\" valign=\"top\">BERT</th>\n",
       "      <th>Baseline</th>\n",
       "      <td>0.907621</td>\n",
       "      <td>0.009789</td>\n",
       "    </tr>\n",
       "    <tr>\n",
       "      <th>Optimized</th>\n",
       "      <td>0.861977</td>\n",
       "      <td>0.029171</td>\n",
       "    </tr>\n",
       "    <tr>\n",
       "      <th rowspan=\"2\" valign=\"top\">Cosine</th>\n",
       "      <th>Baseline</th>\n",
       "      <td>0.776786</td>\n",
       "      <td>0.012673</td>\n",
       "    </tr>\n",
       "    <tr>\n",
       "      <th>Optimized</th>\n",
       "      <td>0.683429</td>\n",
       "      <td>0.064572</td>\n",
       "    </tr>\n",
       "    <tr>\n",
       "      <th rowspan=\"4\" valign=\"top\">10_HBMS.docx</th>\n",
       "      <th rowspan=\"2\" valign=\"top\">BERT</th>\n",
       "      <th>Baseline</th>\n",
       "      <td>0.825666</td>\n",
       "      <td>0.014496</td>\n",
       "    </tr>\n",
       "    <tr>\n",
       "      <th>Optimized</th>\n",
       "      <td>0.842603</td>\n",
       "      <td>0.055370</td>\n",
       "    </tr>\n",
       "    <tr>\n",
       "      <th rowspan=\"2\" valign=\"top\">Cosine</th>\n",
       "      <th>Baseline</th>\n",
       "      <td>0.698770</td>\n",
       "      <td>0.012081</td>\n",
       "    </tr>\n",
       "    <tr>\n",
       "      <th>Optimized</th>\n",
       "      <td>0.715214</td>\n",
       "      <td>0.162038</td>\n",
       "    </tr>\n",
       "  </tbody>\n",
       "</table>\n",
       "</div>"
      ],
      "text/plain": [
       "                                        Value          \n",
       "                                         mean       std\n",
       "File               Metric Solution                     \n",
       "01_BTMS.docx       BERT   Baseline   0.815459  0.012764\n",
       "                          Optimized  0.829303  0.037390\n",
       "                   Cosine Baseline   0.647522  0.009353\n",
       "                          Optimized  0.547337  0.121659\n",
       "02_H2S.docx        BERT   Baseline   0.805376  0.010316\n",
       "                          Optimized  0.803816  0.039132\n",
       "                   Cosine Baseline   0.606487  0.012017\n",
       "                          Optimized  0.558692  0.148864\n",
       "03_LabTracker.docx BERT   Baseline   0.927252  0.008912\n",
       "                          Optimized  0.844863  0.033284\n",
       "                   Cosine Baseline   0.747958  0.008461\n",
       "                          Optimized  0.657942  0.101715\n",
       "04_CelO.docx       BERT   Baseline   0.891602  0.008230\n",
       "                          Optimized  0.840642  0.044012\n",
       "                   Cosine Baseline   0.606469  0.008463\n",
       "                          Optimized  0.644370  0.080070\n",
       "05_TSS.docx        BERT   Baseline   0.895203  0.012670\n",
       "                          Optimized  0.811496  0.056776\n",
       "                   Cosine Baseline   0.788428  0.008242\n",
       "                          Optimized  0.577603  0.150527\n",
       "06_SHAS.docx       BERT   Baseline   0.898135  0.012730\n",
       "                          Optimized  0.857225  0.048742\n",
       "                   Cosine Baseline   0.802962  0.011497\n",
       "                          Optimized  0.698289  0.094379\n",
       "07_OTS.docx        BERT   Baseline   0.903786  0.006431\n",
       "                          Optimized  0.832801  0.045722\n",
       "                   Cosine Baseline   0.766642  0.009566\n",
       "                          Optimized  0.605210  0.130429\n",
       "08_Block.docx      BERT   Baseline   0.925241  0.013749\n",
       "                          Optimized  0.858821  0.041777\n",
       "                   Cosine Baseline   0.756314  0.011094\n",
       "                          Optimized  0.644903  0.073513\n",
       "09_TileO.docx      BERT   Baseline   0.907621  0.009789\n",
       "                          Optimized  0.861977  0.029171\n",
       "                   Cosine Baseline   0.776786  0.012673\n",
       "                          Optimized  0.683429  0.064572\n",
       "10_HBMS.docx       BERT   Baseline   0.825666  0.014496\n",
       "                          Optimized  0.842603  0.055370\n",
       "                   Cosine Baseline   0.698770  0.012081\n",
       "                          Optimized  0.715214  0.162038"
      ]
     },
     "execution_count": 13,
     "metadata": {},
     "output_type": "execute_result"
    }
   ],
   "source": [
    "means"
   ]
  },
  {
   "cell_type": "code",
   "execution_count": 14,
   "metadata": {},
   "outputs": [
    {
     "data": {
      "text/html": [
       "<div>\n",
       "<style scoped>\n",
       "    .dataframe tbody tr th:only-of-type {\n",
       "        vertical-align: middle;\n",
       "    }\n",
       "\n",
       "    .dataframe tbody tr th {\n",
       "        vertical-align: top;\n",
       "    }\n",
       "\n",
       "    .dataframe thead th {\n",
       "        text-align: right;\n",
       "    }\n",
       "</style>\n",
       "<table border=\"1\" class=\"dataframe\">\n",
       "  <thead>\n",
       "    <tr style=\"text-align: right;\">\n",
       "      <th></th>\n",
       "      <th>File</th>\n",
       "      <th>Solution</th>\n",
       "      <th>Cosine</th>\n",
       "      <th>BERT</th>\n",
       "    </tr>\n",
       "  </thead>\n",
       "  <tbody>\n",
       "    <tr>\n",
       "      <th>0</th>\n",
       "      <td>10_HBMS.docx</td>\n",
       "      <td>0.0</td>\n",
       "      <td>0.853066</td>\n",
       "      <td>0.893256</td>\n",
       "    </tr>\n",
       "    <tr>\n",
       "      <th>1</th>\n",
       "      <td>10_HBMS.docx</td>\n",
       "      <td>0.0</td>\n",
       "      <td>0.853066</td>\n",
       "      <td>0.884642</td>\n",
       "    </tr>\n",
       "    <tr>\n",
       "      <th>2</th>\n",
       "      <td>10_HBMS.docx</td>\n",
       "      <td>0.0</td>\n",
       "      <td>0.853066</td>\n",
       "      <td>0.888773</td>\n",
       "    </tr>\n",
       "    <tr>\n",
       "      <th>3</th>\n",
       "      <td>10_HBMS.docx</td>\n",
       "      <td>0.0</td>\n",
       "      <td>0.853066</td>\n",
       "      <td>0.915135</td>\n",
       "    </tr>\n",
       "    <tr>\n",
       "      <th>4</th>\n",
       "      <td>10_HBMS.docx</td>\n",
       "      <td>0.0</td>\n",
       "      <td>0.853066</td>\n",
       "      <td>0.911514</td>\n",
       "    </tr>\n",
       "    <tr>\n",
       "      <th>...</th>\n",
       "      <td>...</td>\n",
       "      <td>...</td>\n",
       "      <td>...</td>\n",
       "      <td>...</td>\n",
       "    </tr>\n",
       "    <tr>\n",
       "      <th>95</th>\n",
       "      <td>08_Block.docx</td>\n",
       "      <td>Baseline</td>\n",
       "      <td>0.744959</td>\n",
       "      <td>0.925873</td>\n",
       "    </tr>\n",
       "    <tr>\n",
       "      <th>96</th>\n",
       "      <td>08_Block.docx</td>\n",
       "      <td>Baseline</td>\n",
       "      <td>0.764077</td>\n",
       "      <td>0.910989</td>\n",
       "    </tr>\n",
       "    <tr>\n",
       "      <th>97</th>\n",
       "      <td>08_Block.docx</td>\n",
       "      <td>Baseline</td>\n",
       "      <td>0.741687</td>\n",
       "      <td>0.934255</td>\n",
       "    </tr>\n",
       "    <tr>\n",
       "      <th>98</th>\n",
       "      <td>08_Block.docx</td>\n",
       "      <td>Baseline</td>\n",
       "      <td>0.757759</td>\n",
       "      <td>0.911835</td>\n",
       "    </tr>\n",
       "    <tr>\n",
       "      <th>99</th>\n",
       "      <td>08_Block.docx</td>\n",
       "      <td>Baseline</td>\n",
       "      <td>0.764752</td>\n",
       "      <td>0.946621</td>\n",
       "    </tr>\n",
       "  </tbody>\n",
       "</table>\n",
       "<p>700 rows × 4 columns</p>\n",
       "</div>"
      ],
      "text/plain": [
       "             File  Solution    Cosine      BERT\n",
       "0    10_HBMS.docx       0.0  0.853066  0.893256\n",
       "1    10_HBMS.docx       0.0  0.853066  0.884642\n",
       "2    10_HBMS.docx       0.0  0.853066  0.888773\n",
       "3    10_HBMS.docx       0.0  0.853066  0.915135\n",
       "4    10_HBMS.docx       0.0  0.853066  0.911514\n",
       "..            ...       ...       ...       ...\n",
       "95  08_Block.docx  Baseline  0.744959  0.925873\n",
       "96  08_Block.docx  Baseline  0.764077  0.910989\n",
       "97  08_Block.docx  Baseline  0.741687  0.934255\n",
       "98  08_Block.docx  Baseline  0.757759  0.911835\n",
       "99  08_Block.docx  Baseline  0.764752  0.946621\n",
       "\n",
       "[700 rows x 4 columns]"
      ]
     },
     "execution_count": 14,
     "metadata": {},
     "output_type": "execute_result"
    }
   ],
   "source": [
    "results"
   ]
  },
  {
   "cell_type": "markdown",
   "metadata": {},
   "source": [
    "## Analysis of the best pareto-solutions"
   ]
  },
  {
   "cell_type": "code",
   "execution_count": 27,
   "metadata": {},
   "outputs": [],
   "source": [
    "from pingouin import wilcoxon\n",
    "\n",
    "def compute_win_stat(results, metric):\n",
    "  sol_stats = {}\n",
    "\n",
    "  for s in results['Solution'].unique():\n",
    "      if s == 'Baseline':\n",
    "        continue\n",
    "      count = 0\n",
    "      loss = 0\n",
    "      tie = 0\n",
    "      for f in results['File'].unique():\n",
    "        stat = wilcoxon(\n",
    "          results[(results['File'] == f) & (results['Solution'] == s)][metric],\n",
    "          results[(results['File'] == f) & (results['Solution'] == 'Baseline')][metric],\n",
    "          alternative='greater'\n",
    "        )\n",
    "        if stat['p-val'].values[0] < 0.05:\n",
    "          count += 1\n",
    "        elif stat['p-val'].values[0] > 0.99:\n",
    "          loss += 1\n",
    "        else:\n",
    "          tie += 1\n",
    "      sol_stats[s] = { 'win': count, 'tie': tie, 'loss': loss }\n",
    "  return sol_stats"
   ]
  },
  {
   "cell_type": "code",
   "execution_count": 28,
   "metadata": {},
   "outputs": [],
   "source": [
    "sol_stats_cosine = compute_win_stat(results, 'Cosine')"
   ]
  },
  {
   "cell_type": "code",
   "execution_count": 29,
   "metadata": {},
   "outputs": [
    {
     "data": {
      "text/plain": [
       "{0.0: {'win': 4, 'tie': 0, 'loss': 6},\n",
       " 1.0: {'win': 1, 'tie': 0, 'loss': 9},\n",
       " 2.0: {'win': 1, 'tie': 1, 'loss': 8},\n",
       " 3.0: {'win': 3, 'tie': 0, 'loss': 7},\n",
       " 4.0: {'win': 1, 'tie': 1, 'loss': 8},\n",
       " 5.0: {'win': 4, 'tie': 0, 'loss': 6}}"
      ]
     },
     "execution_count": 29,
     "metadata": {},
     "output_type": "execute_result"
    }
   ],
   "source": [
    "sol_stats_cosine"
   ]
  },
  {
   "cell_type": "code",
   "execution_count": 30,
   "metadata": {},
   "outputs": [],
   "source": [
    "sol_stats_bert = compute_win_stat(results, 'BERT')"
   ]
  },
  {
   "cell_type": "code",
   "execution_count": 31,
   "metadata": {},
   "outputs": [
    {
     "data": {
      "text/plain": [
       "{0.0: {'win': 2, 'tie': 2, 'loss': 6},\n",
       " 1.0: {'win': 2, 'tie': 1, 'loss': 7},\n",
       " 2.0: {'win': 1, 'tie': 0, 'loss': 9},\n",
       " 3.0: {'win': 1, 'tie': 2, 'loss': 7},\n",
       " 4.0: {'win': 0, 'tie': 0, 'loss': 10},\n",
       " 5.0: {'win': 3, 'tie': 3, 'loss': 4}}"
      ]
     },
     "execution_count": 31,
     "metadata": {},
     "output_type": "execute_result"
    }
   ],
   "source": [
    "sol_stats_bert"
   ]
  },
  {
   "cell_type": "markdown",
   "metadata": {},
   "source": [
    "## Analysis of domain models"
   ]
  },
  {
   "cell_type": "code",
   "execution_count": 36,
   "metadata": {},
   "outputs": [],
   "source": [
    "def get_best_domain_model(results, metric):\n",
    "  best = {}\n",
    "  for f in results['File'].unique():\n",
    "    count = 0\n",
    "    for s in results['Solution'].unique():\n",
    "      if s == 'Baseline':\n",
    "        continue\n",
    "      else:\n",
    "        stat = wilcoxon(\n",
    "          results[(results['File'] == f) & (results['Solution'] == s)][metric],\n",
    "          results[(results['File'] == f) & (results['Solution'] == 'Baseline')][metric],\n",
    "          alternative='greater'\n",
    "        )\n",
    "        if stat['p-val'].values[0] < 0.05:\n",
    "          count += 1\n",
    "    best[f] = count/len(results['Solution'].unique())\n",
    "  return best"
   ]
  },
  {
   "cell_type": "code",
   "execution_count": 37,
   "metadata": {},
   "outputs": [],
   "source": [
    "sol_stats_cosine = get_best_domain_model(results, 'Cosine')"
   ]
  },
  {
   "cell_type": "code",
   "execution_count": 38,
   "metadata": {},
   "outputs": [
    {
     "data": {
      "text/plain": [
       "{'10_HBMS.docx': 0.42857142857142855,\n",
       " '07_OTS.docx': 0.0,\n",
       " '06_SHAS.docx': 0.14285714285714285,\n",
       " '01_BTMS.docx': 0.2857142857142857,\n",
       " '03_LabTracker.docx': 0.14285714285714285,\n",
       " '04_CelO.docx': 0.7142857142857143,\n",
       " '09_TileO.docx': 0.0,\n",
       " '02_H2S.docx': 0.2857142857142857,\n",
       " '05_TSS.docx': 0.0,\n",
       " '08_Block.docx': 0.0}"
      ]
     },
     "execution_count": 38,
     "metadata": {},
     "output_type": "execute_result"
    }
   ],
   "source": [
    "sol_stats_cosine"
   ]
  },
  {
   "cell_type": "code",
   "execution_count": 40,
   "metadata": {},
   "outputs": [
    {
     "data": {
      "text/html": [
       "<div>\n",
       "<style scoped>\n",
       "    .dataframe tbody tr th:only-of-type {\n",
       "        vertical-align: middle;\n",
       "    }\n",
       "\n",
       "    .dataframe tbody tr th {\n",
       "        vertical-align: top;\n",
       "    }\n",
       "\n",
       "    .dataframe thead th {\n",
       "        text-align: right;\n",
       "    }\n",
       "</style>\n",
       "<table border=\"1\" class=\"dataframe\">\n",
       "  <thead>\n",
       "    <tr style=\"text-align: right;\">\n",
       "      <th></th>\n",
       "      <th>Cosine</th>\n",
       "      <th>BERT</th>\n",
       "    </tr>\n",
       "  </thead>\n",
       "  <tbody>\n",
       "    <tr>\n",
       "      <th>count</th>\n",
       "      <td>100.000000</td>\n",
       "      <td>100.000000</td>\n",
       "    </tr>\n",
       "    <tr>\n",
       "      <th>mean</th>\n",
       "      <td>0.719834</td>\n",
       "      <td>0.879534</td>\n",
       "    </tr>\n",
       "    <tr>\n",
       "      <th>std</th>\n",
       "      <td>0.072146</td>\n",
       "      <td>0.045098</td>\n",
       "    </tr>\n",
       "    <tr>\n",
       "      <th>min</th>\n",
       "      <td>0.587575</td>\n",
       "      <td>0.787876</td>\n",
       "    </tr>\n",
       "    <tr>\n",
       "      <th>25%</th>\n",
       "      <td>0.648020</td>\n",
       "      <td>0.833534</td>\n",
       "    </tr>\n",
       "    <tr>\n",
       "      <th>50%</th>\n",
       "      <td>0.746207</td>\n",
       "      <td>0.896776</td>\n",
       "    </tr>\n",
       "    <tr>\n",
       "      <th>75%</th>\n",
       "      <td>0.776291</td>\n",
       "      <td>0.911111</td>\n",
       "    </tr>\n",
       "    <tr>\n",
       "      <th>max</th>\n",
       "      <td>0.819809</td>\n",
       "      <td>0.946621</td>\n",
       "    </tr>\n",
       "  </tbody>\n",
       "</table>\n",
       "</div>"
      ],
      "text/plain": [
       "           Cosine        BERT\n",
       "count  100.000000  100.000000\n",
       "mean     0.719834    0.879534\n",
       "std      0.072146    0.045098\n",
       "min      0.587575    0.787876\n",
       "25%      0.648020    0.833534\n",
       "50%      0.746207    0.896776\n",
       "75%      0.776291    0.911111\n",
       "max      0.819809    0.946621"
      ]
     },
     "execution_count": 40,
     "metadata": {},
     "output_type": "execute_result"
    }
   ],
   "source": [
    "baseline.describe()"
   ]
  },
  {
   "cell_type": "code",
   "execution_count": 39,
   "metadata": {},
   "outputs": [
    {
     "data": {
      "text/plain": [
       "{'10_HBMS.docx': 0.42857142857142855,\n",
       " '07_OTS.docx': 0.0,\n",
       " '06_SHAS.docx': 0.14285714285714285,\n",
       " '01_BTMS.docx': 0.42857142857142855,\n",
       " '03_LabTracker.docx': 0.0,\n",
       " '04_CelO.docx': 0.0,\n",
       " '09_TileO.docx': 0.0,\n",
       " '02_H2S.docx': 0.2857142857142857,\n",
       " '05_TSS.docx': 0.0,\n",
       " '08_Block.docx': 0.0}"
      ]
     },
     "execution_count": 39,
     "metadata": {},
     "output_type": "execute_result"
    }
   ],
   "source": [
    "sol_stats_bert = get_best_domain_model(results, 'BERT')\n",
    "sol_stats_bert"
   ]
  },
  {
   "cell_type": "markdown",
   "metadata": {},
   "source": [
    "# RQ3: Prompt Style"
   ]
  },
  {
   "cell_type": "code",
   "execution_count": 83,
   "metadata": {},
   "outputs": [],
   "source": [
    "def preprocess(cot_ris, cot_baseline):\n",
    "  create_id(cot_ris)\n",
    "  cot_ris = pd.concat([cot_ris, cot_baseline])\n",
    "  cot_ris = pd.melt(cot_ris, id_vars=['Solution'], var_name='Metric', value_name='Value')\n",
    "  cot_ris.loc[cot_ris['Solution'] != 'Baseline', 'Solution'] = 'Optimized'\n",
    "  return cot_ris"
   ]
  },
  {
   "cell_type": "code",
   "execution_count": 84,
   "metadata": {},
   "outputs": [],
   "source": [
    "cot_ris = pd.read_csv('cot/cot-result.csv')\n",
    "cot_baseline = pd.read_csv('cot/cot-baseline.csv')\n",
    "cot_ris = preprocess(cot_ris, cot_baseline)"
   ]
  },
  {
   "cell_type": "code",
   "execution_count": 90,
   "metadata": {},
   "outputs": [
    {
     "name": "stderr",
     "output_type": "stream",
     "text": [
      "/Users/giord/miniconda3/envs/ds/lib/python3.10/site-packages/seaborn/axisgrid.py:718: UserWarning: Using the boxplot function without specifying `order` is likely to produce an incorrect plot.\n",
      "  warnings.warn(warning)\n"
     ]
    },
    {
     "data": {
      "image/png": "[encoded data removed]",
      "text/plain": [
       "<Figure size 900x300 with 2 Axes>"
      ]
     },
     "metadata": {},
     "output_type": "display_data"
    }
   ],
   "source": [
    "g = sns.FacetGrid(col='Metric', data=cot_ris, sharey=True, sharex=True, aspect=1.5)\n",
    "g.map(sns.boxplot, 'Solution', 'Value')\n",
    "g.figure.suptitle('CoT')\n",
    "plt.show()"
   ]
  },
  {
   "cell_type": "code",
   "execution_count": 88,
   "metadata": {},
   "outputs": [],
   "source": [
    "few_shot = pd.read_csv('few-shot/fs-results.csv')\n",
    "few_shot_baseline = pd.read_csv('few-shot/fs-baseline.csv')\n",
    "few_shot = preprocess(few_shot, few_shot_baseline)"
   ]
  },
  {
   "cell_type": "code",
   "execution_count": 92,
   "metadata": {},
   "outputs": [
    {
     "name": "stderr",
     "output_type": "stream",
     "text": [
      "/Users/giord/miniconda3/envs/ds/lib/python3.10/site-packages/seaborn/axisgrid.py:718: UserWarning: Using the boxplot function without specifying `order` is likely to produce an incorrect plot.\n",
      "  warnings.warn(warning)\n"
     ]
    },
    {
     "data": {
      "image/png": "[encoded data removed]",
      "text/plain": [
       "<Figure size 900x300 with 2 Axes>"
      ]
     },
     "metadata": {},
     "output_type": "display_data"
    }
   ],
   "source": [
    "g = sns.FacetGrid(col='Metric', data=few_shot, sharey=True, sharex=True, aspect=1.5)\n",
    "g.map(sns.boxplot, 'Solution', 'Value')\n",
    "g.figure.suptitle('Few-shot')\n",
    "plt.show()"
   ]
  }
 ],
 "metadata": {
  "kernelspec": {
   "display_name": "ds",
   "language": "python",
   "name": "python3"
  },
  "language_info": {
   "codemirror_mode": {
    "name": "ipython",
    "version": 3
   },
   "file_extension": ".py",
   "mimetype": "text/x-python",
   "name": "python",
   "nbconvert_exporter": "python",
   "pygments_lexer": "ipython3",
   "version": "3.10.16"
  }
 },
 "nbformat": 4,
 "nbformat_minor": 2
}
